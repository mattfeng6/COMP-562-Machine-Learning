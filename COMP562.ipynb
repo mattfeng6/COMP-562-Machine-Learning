{
 "cells": [
  {
   "cell_type": "markdown",
   "metadata": {
    "id": "NUQsCozDZxZn"
   },
   "source": [
    "# **COMP 562 Group Project**\n",
    "# **Loan Default Prediction Model**\n",
    "### Kang Du, Jingtong E, Zhengnan Feng, Zihao Fang\n",
    "### 730359227, 730365307, 730321222, 730352968\n",
    "\n"
   ]
  },
  {
   "cell_type": "markdown",
   "metadata": {
    "id": "tYIXtO52PDpB"
   },
   "source": [
    "# Set Up:\n",
    "- Import the required libraris to run our Notebook\n",
    "- Pull 'p' Proportion of the Lending Club Dataset \n"
   ]
  },
  {
   "cell_type": "code",
   "execution_count": 1,
   "metadata": {
    "colab": {
     "base_uri": "https://localhost:8080/"
    },
    "id": "jwS4eTp_W41O",
    "outputId": "d58732d5-baa1-4ea6-ccb5-12bb402093b7"
   },
   "outputs": [],
   "source": [
    "# Import libraries and mount drive\n",
    "import pandas as pd\n",
    "import numpy as np\n",
    "import matplotlib.pyplot as plt\n",
    "import random\n",
    "import seaborn as sns\n",
    "from sklearn.preprocessing import MinMaxScaler, StandardScaler\n",
    "from sklearn.ensemble import RandomForestClassifier\n",
    "from sklearn.metrics import accuracy_score\n",
    "from sklearn.metrics import classification_report\n",
    "from sklearn.metrics import confusion_matrix\n",
    "from sklearn.utils import resample\n",
    "from sklearn.metrics import accuracy_score\n",
    "from sklearn.naive_bayes import MultinomialNB\n",
    "from sklearn.neighbors import KNeighborsClassifier"
   ]
  },
  {
   "cell_type": "code",
   "execution_count": 2,
   "metadata": {
    "colab": {
     "base_uri": "https://localhost:8080/"
    },
    "id": "QX086mMlXu6m",
    "outputId": "00466dde-1c6a-4490-a948-c31d64a8a828"
   },
   "outputs": [
    {
     "name": "stderr",
     "output_type": "stream",
     "text": [
      "C:\\Users\\kangd\\AppData\\Local\\Temp\\ipykernel_99544\\1853535592.py:4: DtypeWarning: Columns (0,19,49,59,118,129,130,131,134,135,136,139,145,146,147) have mixed types. Specify dtype option on import or set low_memory=False.\n",
      "  data = pd.read_csv(\"accepted_2007_to_2018Q4.csv\", header = 0, skiprows = lambda i: i > 0 and random.random() > p)\n"
     ]
    },
    {
     "name": "stdout",
     "output_type": "stream",
     "text": [
      "Dataframe shape is (2260701, 151)\n"
     ]
    }
   ],
   "source": [
    "#Pulling out p% of the Data Set. We lowered this during our exploratory phase.\n",
    "p = 1\n",
    "#Reading the data from 2007 to 2018 \n",
    "data = pd.read_csv(\"accepted_2007_to_2018Q4.csv\", header = 0, skiprows = lambda i: i > 0 and random.random() > p)\n",
    "\n",
    "#56849 rows, 151 variables.\n",
    "print(\"Dataframe shape is\", data.shape)"
   ]
  },
  {
   "cell_type": "markdown",
   "metadata": {
    "id": "uK-mZAFg4InY"
   },
   "source": [
    "# Take a cursory examination of our data \n",
    "- Use the head method to display the first 5 observations\n",
    "- Use the describe method to obtain summary statistics on our variables\n",
    "- Initialize 3 lists with each one containing the variables of a speciifc data type"
   ]
  },
  {
   "cell_type": "code",
   "execution_count": 3,
   "metadata": {
    "colab": {
     "base_uri": "https://localhost:8080/",
     "height": 386
    },
    "id": "9XdkhgBn4HM3",
    "outputId": "cdd4b319-6453-46fa-e87d-6cb6cb378919"
   },
   "outputs": [
    {
     "data": {
      "text/html": [
       "<div>\n",
       "<style scoped>\n",
       "    .dataframe tbody tr th:only-of-type {\n",
       "        vertical-align: middle;\n",
       "    }\n",
       "\n",
       "    .dataframe tbody tr th {\n",
       "        vertical-align: top;\n",
       "    }\n",
       "\n",
       "    .dataframe thead th {\n",
       "        text-align: right;\n",
       "    }\n",
       "</style>\n",
       "<table border=\"1\" class=\"dataframe\">\n",
       "  <thead>\n",
       "    <tr style=\"text-align: right;\">\n",
       "      <th></th>\n",
       "      <th>id</th>\n",
       "      <th>member_id</th>\n",
       "      <th>loan_amnt</th>\n",
       "      <th>funded_amnt</th>\n",
       "      <th>funded_amnt_inv</th>\n",
       "      <th>term</th>\n",
       "      <th>int_rate</th>\n",
       "      <th>installment</th>\n",
       "      <th>grade</th>\n",
       "      <th>sub_grade</th>\n",
       "      <th>...</th>\n",
       "      <th>hardship_payoff_balance_amount</th>\n",
       "      <th>hardship_last_payment_amount</th>\n",
       "      <th>disbursement_method</th>\n",
       "      <th>debt_settlement_flag</th>\n",
       "      <th>debt_settlement_flag_date</th>\n",
       "      <th>settlement_status</th>\n",
       "      <th>settlement_date</th>\n",
       "      <th>settlement_amount</th>\n",
       "      <th>settlement_percentage</th>\n",
       "      <th>settlement_term</th>\n",
       "    </tr>\n",
       "  </thead>\n",
       "  <tbody>\n",
       "    <tr>\n",
       "      <th>0</th>\n",
       "      <td>68407277</td>\n",
       "      <td>NaN</td>\n",
       "      <td>3600.0</td>\n",
       "      <td>3600.0</td>\n",
       "      <td>3600.0</td>\n",
       "      <td>36 months</td>\n",
       "      <td>13.99</td>\n",
       "      <td>123.03</td>\n",
       "      <td>C</td>\n",
       "      <td>C4</td>\n",
       "      <td>...</td>\n",
       "      <td>NaN</td>\n",
       "      <td>NaN</td>\n",
       "      <td>Cash</td>\n",
       "      <td>N</td>\n",
       "      <td>NaN</td>\n",
       "      <td>NaN</td>\n",
       "      <td>NaN</td>\n",
       "      <td>NaN</td>\n",
       "      <td>NaN</td>\n",
       "      <td>NaN</td>\n",
       "    </tr>\n",
       "    <tr>\n",
       "      <th>1</th>\n",
       "      <td>68355089</td>\n",
       "      <td>NaN</td>\n",
       "      <td>24700.0</td>\n",
       "      <td>24700.0</td>\n",
       "      <td>24700.0</td>\n",
       "      <td>36 months</td>\n",
       "      <td>11.99</td>\n",
       "      <td>820.28</td>\n",
       "      <td>C</td>\n",
       "      <td>C1</td>\n",
       "      <td>...</td>\n",
       "      <td>NaN</td>\n",
       "      <td>NaN</td>\n",
       "      <td>Cash</td>\n",
       "      <td>N</td>\n",
       "      <td>NaN</td>\n",
       "      <td>NaN</td>\n",
       "      <td>NaN</td>\n",
       "      <td>NaN</td>\n",
       "      <td>NaN</td>\n",
       "      <td>NaN</td>\n",
       "    </tr>\n",
       "    <tr>\n",
       "      <th>2</th>\n",
       "      <td>68341763</td>\n",
       "      <td>NaN</td>\n",
       "      <td>20000.0</td>\n",
       "      <td>20000.0</td>\n",
       "      <td>20000.0</td>\n",
       "      <td>60 months</td>\n",
       "      <td>10.78</td>\n",
       "      <td>432.66</td>\n",
       "      <td>B</td>\n",
       "      <td>B4</td>\n",
       "      <td>...</td>\n",
       "      <td>NaN</td>\n",
       "      <td>NaN</td>\n",
       "      <td>Cash</td>\n",
       "      <td>N</td>\n",
       "      <td>NaN</td>\n",
       "      <td>NaN</td>\n",
       "      <td>NaN</td>\n",
       "      <td>NaN</td>\n",
       "      <td>NaN</td>\n",
       "      <td>NaN</td>\n",
       "    </tr>\n",
       "    <tr>\n",
       "      <th>3</th>\n",
       "      <td>66310712</td>\n",
       "      <td>NaN</td>\n",
       "      <td>35000.0</td>\n",
       "      <td>35000.0</td>\n",
       "      <td>35000.0</td>\n",
       "      <td>60 months</td>\n",
       "      <td>14.85</td>\n",
       "      <td>829.90</td>\n",
       "      <td>C</td>\n",
       "      <td>C5</td>\n",
       "      <td>...</td>\n",
       "      <td>NaN</td>\n",
       "      <td>NaN</td>\n",
       "      <td>Cash</td>\n",
       "      <td>N</td>\n",
       "      <td>NaN</td>\n",
       "      <td>NaN</td>\n",
       "      <td>NaN</td>\n",
       "      <td>NaN</td>\n",
       "      <td>NaN</td>\n",
       "      <td>NaN</td>\n",
       "    </tr>\n",
       "    <tr>\n",
       "      <th>4</th>\n",
       "      <td>68476807</td>\n",
       "      <td>NaN</td>\n",
       "      <td>10400.0</td>\n",
       "      <td>10400.0</td>\n",
       "      <td>10400.0</td>\n",
       "      <td>60 months</td>\n",
       "      <td>22.45</td>\n",
       "      <td>289.91</td>\n",
       "      <td>F</td>\n",
       "      <td>F1</td>\n",
       "      <td>...</td>\n",
       "      <td>NaN</td>\n",
       "      <td>NaN</td>\n",
       "      <td>Cash</td>\n",
       "      <td>N</td>\n",
       "      <td>NaN</td>\n",
       "      <td>NaN</td>\n",
       "      <td>NaN</td>\n",
       "      <td>NaN</td>\n",
       "      <td>NaN</td>\n",
       "      <td>NaN</td>\n",
       "    </tr>\n",
       "  </tbody>\n",
       "</table>\n",
       "<p>5 rows × 151 columns</p>\n",
       "</div>"
      ],
      "text/plain": [
       "         id  member_id  loan_amnt  funded_amnt  funded_amnt_inv        term  \\\n",
       "0  68407277        NaN     3600.0       3600.0           3600.0   36 months   \n",
       "1  68355089        NaN    24700.0      24700.0          24700.0   36 months   \n",
       "2  68341763        NaN    20000.0      20000.0          20000.0   60 months   \n",
       "3  66310712        NaN    35000.0      35000.0          35000.0   60 months   \n",
       "4  68476807        NaN    10400.0      10400.0          10400.0   60 months   \n",
       "\n",
       "   int_rate  installment grade sub_grade  ... hardship_payoff_balance_amount  \\\n",
       "0     13.99       123.03     C        C4  ...                            NaN   \n",
       "1     11.99       820.28     C        C1  ...                            NaN   \n",
       "2     10.78       432.66     B        B4  ...                            NaN   \n",
       "3     14.85       829.90     C        C5  ...                            NaN   \n",
       "4     22.45       289.91     F        F1  ...                            NaN   \n",
       "\n",
       "  hardship_last_payment_amount disbursement_method  debt_settlement_flag  \\\n",
       "0                          NaN                Cash                     N   \n",
       "1                          NaN                Cash                     N   \n",
       "2                          NaN                Cash                     N   \n",
       "3                          NaN                Cash                     N   \n",
       "4                          NaN                Cash                     N   \n",
       "\n",
       "  debt_settlement_flag_date settlement_status settlement_date  \\\n",
       "0                       NaN               NaN             NaN   \n",
       "1                       NaN               NaN             NaN   \n",
       "2                       NaN               NaN             NaN   \n",
       "3                       NaN               NaN             NaN   \n",
       "4                       NaN               NaN             NaN   \n",
       "\n",
       "  settlement_amount settlement_percentage settlement_term  \n",
       "0               NaN                   NaN             NaN  \n",
       "1               NaN                   NaN             NaN  \n",
       "2               NaN                   NaN             NaN  \n",
       "3               NaN                   NaN             NaN  \n",
       "4               NaN                   NaN             NaN  \n",
       "\n",
       "[5 rows x 151 columns]"
      ]
     },
     "execution_count": 3,
     "metadata": {},
     "output_type": "execute_result"
    }
   ],
   "source": [
    "#Taking a look at the first five rows from our data \n",
    "data.head()\n"
   ]
  },
  {
   "cell_type": "markdown",
   "metadata": {
    "id": "quo1gDv4tVqc"
   },
   "source": [
    "# Variable Selection\n",
    "- We looked at the description of each variable in the codebook provided and narrowed down the data to just include features of concern\n",
    "\n",
    "- Engineer the 'Fico' varaiable from the borrower's Fico score range "
   ]
  },
  {
   "cell_type": "code",
   "execution_count": 4,
   "metadata": {
    "colab": {
     "base_uri": "https://localhost:8080/"
    },
    "id": "DLGPy7U7tZG4",
    "outputId": "140dfb07-46c2-4174-bf19-6287b97ab0e0"
   },
   "outputs": [
    {
     "data": {
      "text/plain": [
       "['open_acc',\n",
       " 'funded_amnt',\n",
       " 'int_rate',\n",
       " 'term',\n",
       " 'verification_status',\n",
       " 'annual_inc',\n",
       " 'dti',\n",
       " 'installment',\n",
       " 'application_type',\n",
       " 'emp_length',\n",
       " 'grade',\n",
       " 'sub_grade',\n",
       " 'home_ownership',\n",
       " 'loan_status',\n",
       " 'fico_range_high',\n",
       " 'fico_range_low',\n",
       " 'issue_d']"
      ]
     },
     "execution_count": 4,
     "metadata": {},
     "output_type": "execute_result"
    }
   ],
   "source": [
    "#Chosen features\n",
    "cols = ['open_acc','funded_amnt', 'int_rate','term','verification_status','annual_inc',\t'dti',\t'installment',\t'application_type',\t'emp_length',\t'grade','sub_grade',\t'home_ownership',\t'loan_status',\t'fico_range_high','fico_range_low','issue_d']\n",
    "#Print out the cols to ensure the list was properly initialized\n",
    "cols"
   ]
  },
  {
   "cell_type": "code",
   "execution_count": 5,
   "metadata": {
    "id": "GXcXSgOBxtNA"
   },
   "outputs": [],
   "source": [
    "#Makes a copy of the data with only the columns we are interested in\n",
    "data = data[cols].copy()"
   ]
  },
  {
   "cell_type": "code",
   "execution_count": 6,
   "metadata": {
    "id": "hvXXButLyvCt"
   },
   "outputs": [],
   "source": [
    "#Since each borrower's fico score is set within a range, we averaged the upper and lower bound\n",
    "data['fico'] = (data['fico_range_high'] + data['fico_range_low'])/2\n",
    "#Drop the upper and lower fico bound variables\n",
    "data = data.drop(['fico_range_high', 'fico_range_low'], axis = 1)"
   ]
  },
  {
   "cell_type": "code",
   "execution_count": 7,
   "metadata": {
    "colab": {
     "base_uri": "https://localhost:8080/"
    },
    "id": "kRqkQ03hzpIq",
    "outputId": "135ce032-5ed3-4b71-eba5-fecf348b82f0"
   },
   "outputs": [
    {
     "name": "stdout",
     "output_type": "stream",
     "text": [
      "Object Type Variables:  ['term', 'verification_status', 'application_type', 'emp_length', 'grade', 'sub_grade', 'home_ownership', 'loan_status', 'issue_d']\n",
      "Float 64 Type Variables:  ['open_acc', 'funded_amnt', 'int_rate', 'annual_inc', 'dti', 'installment', 'fico']\n"
     ]
    }
   ],
   "source": [
    "#Identifying the variables that are object data types\n",
    "object_types = [column for column in data.columns if data[column].dtype == 'object']\n",
    "#Identifying the variables that are float data types\n",
    "float_types = [column for column in data.columns if data[column].dtype == 'float64']\n",
    "#Print out the variables that are object data types\n",
    "print(\"Object Type Variables: \",object_types)\n",
    "#Print out the variables that are float data types\n",
    "print(\"Float 64 Type Variables: \",float_types)"
   ]
  },
  {
   "cell_type": "code",
   "execution_count": 8,
   "metadata": {
    "colab": {
     "base_uri": "https://localhost:8080/"
    },
    "id": "aP7X-pOM0MoU",
    "outputId": "6bce9c21-5599-42af-af49-9b4044a689cd"
   },
   "outputs": [
    {
     "name": "stdout",
     "output_type": "stream",
     "text": [
      "Index(['term', 'verification_status', 'application_type', 'emp_length',\n",
      "       'grade', 'sub_grade', 'home_ownership', 'loan_status'],\n",
      "      dtype='object')\n"
     ]
    }
   ],
   "source": [
    "#Keeping above variables but dropping issue_d\n",
    "categorical_features = data.select_dtypes(include=['object', 'category']).drop(['issue_d'], axis=1).columns\n",
    "#Printing out the categorical_features\n",
    "print(categorical_features)"
   ]
  },
  {
   "cell_type": "code",
   "execution_count": 9,
   "metadata": {
    "colab": {
     "base_uri": "https://localhost:8080/"
    },
    "id": "g9J9MSRf12YN",
    "outputId": "c30fcf50-c2d8-494e-b5a3-a837148d0ce6"
   },
   "outputs": [
    {
     "name": "stdout",
     "output_type": "stream",
     "text": [
      "<class 'pandas.core.frame.DataFrame'>\n",
      "RangeIndex: 2260701 entries, 0 to 2260700\n",
      "Data columns (total 16 columns):\n",
      " #   Column               Dtype   \n",
      "---  ------               -----   \n",
      " 0   open_acc             float64 \n",
      " 1   funded_amnt          float64 \n",
      " 2   int_rate             float64 \n",
      " 3   term                 category\n",
      " 4   verification_status  category\n",
      " 5   annual_inc           float64 \n",
      " 6   dti                  float64 \n",
      " 7   installment          float64 \n",
      " 8   application_type     category\n",
      " 9   emp_length           category\n",
      " 10  grade                category\n",
      " 11  sub_grade            category\n",
      " 12  home_ownership       category\n",
      " 13  loan_status          category\n",
      " 14  issue_d              object  \n",
      " 15  fico                 float64 \n",
      "dtypes: category(8), float64(7), object(1)\n",
      "memory usage: 155.2+ MB\n"
     ]
    }
   ],
   "source": [
    "#A for loop which is converting the object type variables(categorical) into category data types\n",
    "for col in categorical_features.tolist():\n",
    "  #Reassign the variables in our dataset as a category\n",
    "        data[col] = data[col].astype('category')\n",
    "\n",
    "#Getting the data types gfor each variabel in the data frame to ensure changes are made\n",
    "data.info()"
   ]
  },
  {
   "cell_type": "code",
   "execution_count": 10,
   "metadata": {
    "colab": {
     "base_uri": "https://localhost:8080/"
    },
    "id": "oQ2qHW0q4EQ_",
    "outputId": "e50b5811-bc14-45e7-d18f-ce53ab5ad09b"
   },
   "outputs": [
    {
     "name": "stdout",
     "output_type": "stream",
     "text": [
      "<class 'pandas.core.frame.DataFrame'>\n",
      "RangeIndex: 2260701 entries, 0 to 2260700\n",
      "Data columns (total 16 columns):\n",
      " #   Column               Dtype   \n",
      "---  ------               -----   \n",
      " 0   open_acc             float64 \n",
      " 1   funded_amnt          float64 \n",
      " 2   int_rate             float64 \n",
      " 3   term                 category\n",
      " 4   verification_status  category\n",
      " 5   annual_inc           float64 \n",
      " 6   dti                  float64 \n",
      " 7   installment          float64 \n",
      " 8   application_type     category\n",
      " 9   emp_length           category\n",
      " 10  grade                category\n",
      " 11  sub_grade            category\n",
      " 12  home_ownership       category\n",
      " 13  loan_status          category\n",
      " 14  issue_d              object  \n",
      " 15  fico                 float64 \n",
      "dtypes: category(8), float64(7), object(1)\n",
      "memory usage: 155.2+ MB\n"
     ]
    }
   ],
   "source": [
    "#Checking to see what verification status incorporates\n",
    "data['verification_status'].unique()\n",
    "#Current data columns \n",
    "data.columns\n",
    "#Data types of the current data columns\n",
    "data.info()"
   ]
  },
  {
   "cell_type": "markdown",
   "metadata": {
    "id": "9ssPyis8stIN"
   },
   "source": [
    "# Addressing how issue date and loan term are recorded for each case\n",
    "- these two features include a str prefix or suffix. We need to remove these portions of the data in order to be able to type cast these variables as type int. \n",
    "    - this is done through engineering the 'issue_yr' and overridiing the 'term' feature's data\n",
    "- drop the cases where there is not any data in 'issue_yr'"
   ]
  },
  {
   "cell_type": "code",
   "execution_count": 11,
   "metadata": {
    "colab": {
     "base_uri": "https://localhost:8080/"
    },
    "id": "y8u2k7epZ491",
    "outputId": "ea2900af-c7f9-4860-fdd6-13d66be85e10"
   },
   "outputs": [
    {
     "data": {
      "text/plain": [
       "0           36 months\n",
       "1           36 months\n",
       "2           60 months\n",
       "3           60 months\n",
       "4           60 months\n",
       "              ...    \n",
       "2260696     60 months\n",
       "2260697     60 months\n",
       "2260698     60 months\n",
       "2260699           NaN\n",
       "2260700           NaN\n",
       "Name: term, Length: 2260701, dtype: category\n",
       "Categories (2, object): [' 36 months', ' 60 months']"
      ]
     },
     "execution_count": 11,
     "metadata": {},
     "output_type": "execute_result"
    }
   ],
   "source": [
    "#Identifying what term incorporates\n",
    "data['term']"
   ]
  },
  {
   "cell_type": "code",
   "execution_count": 12,
   "metadata": {
    "colab": {
     "base_uri": "https://localhost:8080/"
    },
    "id": "JeN1acKuZlrL",
    "outputId": "f1c27ddc-390c-4d15-a6cd-3e7000c9fb89"
   },
   "outputs": [
    {
     "data": {
      "text/plain": [
       "open_acc                   62\n",
       "funded_amnt                33\n",
       "int_rate                   33\n",
       "term                       33\n",
       "verification_status        33\n",
       "annual_inc                 37\n",
       "dti                      1744\n",
       "installment                33\n",
       "application_type           33\n",
       "emp_length             146940\n",
       "grade                      33\n",
       "sub_grade                  33\n",
       "home_ownership             33\n",
       "loan_status                33\n",
       "issue_d                    33\n",
       "fico                       33\n",
       "issue_yr                   33\n",
       "dtype: int64"
      ]
     },
     "execution_count": 12,
     "metadata": {},
     "output_type": "execute_result"
    }
   ],
   "source": [
    "#Create new variable issue year where we drop the month. For example, change dec-2012 to just 2012.\n",
    "data[\"issue_yr\"] = data[\"issue_d\"].str[4:]\n",
    "#Looking at term. \n",
    "data['term'] = data['term'].str[:3]\n",
    "#Pulling the head on first 20 rows\n",
    "data.head(20)\n",
    "#Taking the sum of the rows with empty observations \n",
    "data.isna().sum()"
   ]
  },
  {
   "cell_type": "code",
   "execution_count": 13,
   "metadata": {
    "colab": {
     "base_uri": "https://localhost:8080/"
    },
    "id": "LLV7kVaOissa",
    "outputId": "afc1842e-c192-4067-ca64-9fa9705f13f9"
   },
   "outputs": [
    {
     "name": "stdout",
     "output_type": "stream",
     "text": [
      "33\n"
     ]
    }
   ],
   "source": [
    "#Identifying the sum of missing values in issue_yr \n",
    "print(data[\"issue_yr\"].isna().sum())\n",
    "#Store cases where issue year is na in drop_dt\n",
    "drop_dt = data[data['issue_yr'].isna()]\n",
    "#Overide data by dropping where issue year is na\n",
    "data = data.drop(drop_dt.index)"
   ]
  },
  {
   "cell_type": "code",
   "execution_count": 14,
   "metadata": {
    "colab": {
     "base_uri": "https://localhost:8080/"
    },
    "id": "hBM8YmHFpZEW",
    "outputId": "c8ecbdb1-6850-4d94-b009-9efe57b9a6c1"
   },
   "outputs": [
    {
     "data": {
      "text/plain": [
       "0"
      ]
     },
     "execution_count": 14,
     "metadata": {},
     "output_type": "execute_result"
    }
   ],
   "source": [
    "#Confirming the Na's are dropped in issue_yr\n",
    "data[\"issue_yr\"].isna().sum()"
   ]
  },
  {
   "cell_type": "code",
   "execution_count": 15,
   "metadata": {
    "colab": {
     "base_uri": "https://localhost:8080/"
    },
    "id": "MxnlXinrdC9T",
    "outputId": "f457498a-1c63-47d9-dc7a-c4b639c2588f"
   },
   "outputs": [
    {
     "data": {
      "text/plain": [
       "dtype('O')"
      ]
     },
     "execution_count": 15,
     "metadata": {},
     "output_type": "execute_result"
    }
   ],
   "source": [
    "#Convert issue_yr to data type integer\n",
    "data[\"issue_yr\"].astype(\"int\")\n",
    "#Convert term to data type integer\n",
    "data['term'].astype('int')\n",
    "#Check data type on issue year\n",
    "data[\"issue_yr\"].dtypes"
   ]
  },
  {
   "cell_type": "code",
   "execution_count": 16,
   "metadata": {
    "colab": {
     "base_uri": "https://localhost:8080/"
    },
    "id": "HPMiYxh_kdE_",
    "outputId": "472bead0-484b-4cde-d179-eceed90298ac"
   },
   "outputs": [
    {
     "data": {
      "text/plain": [
       "0          2015\n",
       "1          2015\n",
       "2          2015\n",
       "3          2015\n",
       "4          2015\n",
       "           ... \n",
       "2260694    2016\n",
       "2260695    2016\n",
       "2260696    2016\n",
       "2260697    2016\n",
       "2260698    2016\n",
       "Name: issue_yr, Length: 2260668, dtype: object"
      ]
     },
     "execution_count": 16,
     "metadata": {},
     "output_type": "execute_result"
    }
   ],
   "source": [
    "#Checking what is in issue year\n",
    "data[\"issue_yr\"]"
   ]
  },
  {
   "cell_type": "code",
   "execution_count": 17,
   "metadata": {
    "colab": {
     "base_uri": "https://localhost:8080/"
    },
    "id": "6BlSOUVM_ckQ",
    "outputId": "25da3bf2-3293-4b37-faa0-436ae0f649f5"
   },
   "outputs": [
    {
     "data": {
      "text/plain": [
       "['open_acc',\n",
       " 'funded_amnt',\n",
       " 'int_rate',\n",
       " 'annual_inc',\n",
       " 'dti',\n",
       " 'installment',\n",
       " 'fico']"
      ]
     },
     "execution_count": 17,
     "metadata": {},
     "output_type": "execute_result"
    }
   ],
   "source": [
    "#Assigning the float64 data type variables to be float types\n",
    "float_types = [column for column in data.columns if data[column].dtype == 'float64']\n",
    "#Prints out float types\n",
    "float_types"
   ]
  },
  {
   "cell_type": "markdown",
   "metadata": {
    "id": "AShwmnIk2HJ8"
   },
   "source": [
    "# Visually Inspect the Distribution of each features using a histogram and boxplot\n",
    "- These visualizations increase our understanding of each feature and allow us to identify potential outliers"
   ]
  },
  {
   "cell_type": "code",
   "execution_count": 18,
   "metadata": {
    "colab": {
     "base_uri": "https://localhost:8080/",
     "height": 1000
    },
    "id": "rCf6z7Nc-5Sr",
    "outputId": "7cfd7a9d-6c83-46cd-a3e0-aec277fcc109"
   },
   "outputs": [
    {
     "data": {
      "image/png": "[encoded data removed]",
      "text/plain": [
       "<Figure size 864x432 with 2 Axes>"
      ]
     },
     "metadata": {
      "needs_background": "light"
     },
     "output_type": "display_data"
    },
    {
     "data": {
      "image/png": "[encoded data removed]",
      "text/plain": [
       "<Figure size 864x432 with 2 Axes>"
      ]
     },
     "metadata": {
      "needs_background": "light"
     },
     "output_type": "display_data"
    },
    {
     "data": {
      "image/png": "[encoded data removed]",
      "text/plain": [
       "<Figure size 864x432 with 2 Axes>"
      ]
     },
     "metadata": {
      "needs_background": "light"
     },
     "output_type": "display_data"
    },
    {
     "data": {
      "image/png": "[encoded data removed]",
      "text/plain": [
       "<Figure size 864x432 with 2 Axes>"
      ]
     },
     "metadata": {
      "needs_background": "light"
     },
     "output_type": "display_data"
    },
    {
     "data": {
      "image/png": "[encoded data removed]",
      "text/plain": [
       "<Figure size 864x432 with 2 Axes>"
      ]
     },
     "metadata": {
      "needs_background": "light"
     },
     "output_type": "display_data"
    },
    {
     "data": {
      "image/png": "[encoded data removed]",
      "text/plain": [
       "<Figure size 864x432 with 2 Axes>"
      ]
     },
     "metadata": {
      "needs_background": "light"
     },
     "output_type": "display_data"
    },
    {
     "data": {
      "image/png": "[encoded data removed]",
      "text/plain": [
       "<Figure size 864x432 with 2 Axes>"
      ]
     },
     "metadata": {
      "needs_background": "light"
     },
     "output_type": "display_data"
    }
   ],
   "source": [
    "#Code borrowed from COMP488 notebook. \n",
    "#We are using histograms and box-plots to check for outliers\n",
    "#Creating a for loop running through float types\n",
    "for col in data[float_types]:\n",
    "    #For each column we create space for one row with 2 charts \n",
    "    f, axes = plt.subplots(1, 2, figsize=(12, 6))\n",
    "    #The first chart is a histogram \n",
    "    data[float_types][col].hist(bins = 30, ax = axes[0])\n",
    "    #The title for the chart is created here \n",
    "    axes[0].set_title('Distribution of '+ col)\n",
    "    #The boxplot is created for the column\n",
    "    data[float_types].boxplot(column = col, ax = axes[1])\n",
    "    #This command displays the charts\n",
    "    plt.show()"
   ]
  },
  {
   "cell_type": "markdown",
   "metadata": {
    "id": "L18-0YZt3-ef"
   },
   "source": [
    "# Define a function that identifies outlier cases"
   ]
  },
  {
   "cell_type": "code",
   "execution_count": 19,
   "metadata": {
    "id": "x2HTUGQuGNWI"
   },
   "outputs": [],
   "source": [
    "#Code borrowed from COMP488 notebook.\n",
    "#We are defining a function that can be used on any dataset to return a list of index values for the outliers \n",
    "def get_outliers(data, columns):\n",
    "    #We create an empty list\n",
    "    outlier_idxs = []\n",
    "     #The standard deviations needed\n",
    "    nsd = 3 \n",
    "    #We loop over all columns passed into the function\n",
    "    for col in columns:\n",
    "        elements = data[col]\n",
    "        #We get the mean value for each column\n",
    "        mean = elements.mean()\n",
    "        #We get the standard deviation of the column\n",
    "        sd = elements.std()\n",
    "        #We get the index values of all values higher or lower than the mean +/- nsd standard deviations\n",
    "        outliers_mask = data[(data[col] > mean + nsd*sd) | (data[col]  < mean  - nsd*sd)].index\n",
    "        #We add those index values to our list\n",
    "        outlier_idxs  += [x for x in outliers_mask]\n",
    "        #We return a list of the outliers index\n",
    "    return list(set(outlier_idxs))"
   ]
  },
  {
   "cell_type": "markdown",
   "metadata": {
    "id": "oalOt73P4D0E"
   },
   "source": [
    "# Call the function that identifies outliers. \n",
    "- drop the idenitied outliers from out data\n",
    "### Caution: Running this function call multiple times will continue to decrease the size of your data\n"
   ]
  },
  {
   "cell_type": "code",
   "execution_count": 20,
   "metadata": {
    "colab": {
     "base_uri": "https://localhost:8080/"
    },
    "id": "0ZZGnNJtGdnS",
    "outputId": "6430c706-9c11-4c6b-9fab-91f35c9fa7c2"
   },
   "outputs": [
    {
     "name": "stdout",
     "output_type": "stream",
     "text": [
      "Number of Observations and Features before Cleaning: (2260668, 7)\n",
      "Number of Observations and Features after Cleaning: (2152667, 7)\n"
     ]
    }
   ],
   "source": [
    "#We check how many observations we have and print the results\n",
    "print (f\"Number of Observations and Features before Cleaning: {data[float_types].shape}\")\n",
    "#We call the function we just created on the boston dataset\n",
    "outliers = get_outliers(data[float_types], float_types)\n",
    "#We drop those records from our feature and response data\n",
    "data = data.drop(outliers, axis = 0)\n",
    "#We check that this code has worked by looking at the shape of our data \n",
    "print (f\"Number of Observations and Features after Cleaning: {data[float_types].shape}\")\n",
    "#Careful when running cell as more data will be removed"
   ]
  },
  {
   "cell_type": "markdown",
   "metadata": {
    "id": "2TrJRm1O4cm-"
   },
   "source": [
    "# Re-examine the distirbution for each features, now that we have dropped outlier cases"
   ]
  },
  {
   "cell_type": "code",
   "execution_count": 21,
   "metadata": {
    "colab": {
     "base_uri": "https://localhost:8080/",
     "height": 1000
    },
    "id": "Xl09rTWAOJZz",
    "outputId": "a92701de-22c8-4e83-8657-5511fccf4291"
   },
   "outputs": [
    {
     "data": {
      "image/png": "[encoded data removed]",
      "text/plain": [
       "<Figure size 864x432 with 2 Axes>"
      ]
     },
     "metadata": {
      "needs_background": "light"
     },
     "output_type": "display_data"
    },
    {
     "data": {
      "image/png": "[encoded data removed]",
      "text/plain": [
       "<Figure size 864x432 with 2 Axes>"
      ]
     },
     "metadata": {
      "needs_background": "light"
     },
     "output_type": "display_data"
    },
    {
     "data": {
      "image/png": "[encoded data removed]",
      "text/plain": [
       "<Figure size 864x432 with 2 Axes>"
      ]
     },
     "metadata": {
      "needs_background": "light"
     },
     "output_type": "display_data"
    },
    {
     "data": {
      "image/png": "[encoded data removed]",
      "text/plain": [
       "<Figure size 864x432 with 2 Axes>"
      ]
     },
     "metadata": {
      "needs_background": "light"
     },
     "output_type": "display_data"
    },
    {
     "data": {
      "image/png": "[encoded data removed]",
      "text/plain": [
       "<Figure size 864x432 with 2 Axes>"
      ]
     },
     "metadata": {
      "needs_background": "light"
     },
     "output_type": "display_data"
    },
    {
     "data": {
      "image/png": "[encoded data removed]",
      "text/plain": [
       "<Figure size 864x432 with 2 Axes>"
      ]
     },
     "metadata": {
      "needs_background": "light"
     },
     "output_type": "display_data"
    },
    {
     "data": {
      "image/png": "[encoded data removed]",
      "text/plain": [
       "<Figure size 864x432 with 2 Axes>"
      ]
     },
     "metadata": {
      "needs_background": "light"
     },
     "output_type": "display_data"
    }
   ],
   "source": [
    "#Code borrowed from COMP488 notebook.\n",
    "#Checking histogram and box plots after removing outliers in for loop\n",
    "for col in data[float_types]:\n",
    "    #For each column we create space for one row with 2 charts  \n",
    "    f, axes = plt.subplots(1, 2, figsize=(12, 6))\n",
    "    #Our first chart is a histogram and we set the title \n",
    "    data[float_types][col].hist(bins = 30, ax = axes[0])\n",
    "    #We set the title of our histogram\n",
    "    axes[0].set_title('Distribution of '+ col)\n",
    "    #We created a boxplot of the column\n",
    "    data[float_types].boxplot(column = col, ax = axes[1])\n",
    "    #We use this to command to display the charts\n",
    "    plt.show()"
   ]
  },
  {
   "cell_type": "markdown",
   "metadata": {
    "id": "IPAYA33COTQ8"
   },
   "source": [
    "# Feature Engineering: \n",
    "\n",
    "## The next portion of this notebook focuses on preparing key features for out model.  \n",
    "\n",
    "### Loan Status \n",
    "   - There are multiple levels to the loan status: Fully Paid, Current, Charged Off, Late (31-120 days), In Grace Period, Late (16-30 days), Does not meet the credit policy. Status: Fully Paid,  Does not meet the credit policy. Staus: Charged Off, and Default. \n",
    "   - We narrow our focus to just include the Charged Off and Fully Paid Loans because these are the only loans for which we know their ending status. "
   ]
  },
  {
   "cell_type": "markdown",
   "metadata": {
    "id": "ktGEVcpe5nbd"
   },
   "source": [
    "# Loan Status\n",
    "- Look at the contents of the feature using value_counts\n",
    "- drop the loans that are not in a definite ending status. "
   ]
  },
  {
   "cell_type": "code",
   "execution_count": 22,
   "metadata": {
    "colab": {
     "base_uri": "https://localhost:8080/"
    },
    "id": "1uaht2z9dV98",
    "outputId": "18411ad1-b5b4-4f8a-cf7e-6ecda422dcb8"
   },
   "outputs": [
    {
     "data": {
      "text/plain": [
       "Fully Paid                                             1036043\n",
       "Current                                                 826481\n",
       "Charged Off                                             255751\n",
       "Late (31-120 days)                                       19847\n",
       "In Grace Period                                           7782\n",
       "Late (16-30 days)                                         4024\n",
       "Does not meet the credit policy. Status:Fully Paid        1955\n",
       "Does not meet the credit policy. Status:Charged Off        750\n",
       "Default                                                     34\n",
       "Name: loan_status, dtype: int64"
      ]
     },
     "execution_count": 22,
     "metadata": {},
     "output_type": "execute_result"
    }
   ],
   "source": [
    "#Count unique values in loan status\n",
    "data['loan_status'].value_counts()"
   ]
  },
  {
   "cell_type": "code",
   "execution_count": 23,
   "metadata": {
    "colab": {
     "base_uri": "https://localhost:8080/"
    },
    "id": "KfNjx5geiGFp",
    "outputId": "119457e2-7563-45c1-e798-6a5bb7cbab02"
   },
   "outputs": [
    {
     "data": {
      "text/plain": [
       "Fully Paid     1036043\n",
       "Charged Off     255751\n",
       "Name: loan_status, dtype: int64"
      ]
     },
     "execution_count": 23,
     "metadata": {},
     "output_type": "execute_result"
    }
   ],
   "source": [
    "# dropping loans that are not of Full Paid Off or Charged Off status \n",
    "s_drop = ['Current', 'Does not meet the credit policy. Status:Charged Off', 'Does not meet the credit policy. Status:Fully Paid', 'In Grace Period', 'Late (16-30 days)', 'Late (31-120 days)']\n",
    "#Retrives the data of loan status that are fully paid or charged off\n",
    "data_c = data.loc[(data['loan_status'] == \"Fully Paid\") | (data['loan_status'] == \"Charged Off\")].copy()\n",
    "#Remove the unused categories in loan status\n",
    "data_c['loan_status'] = data_c['loan_status'].cat.remove_unused_categories()\n",
    "#Determine the counts on loan status for fully paid and charged off\n",
    "data_c['loan_status'].value_counts()"
   ]
  },
  {
   "cell_type": "markdown",
   "metadata": {
    "id": "t3kbZMpv8V16"
   },
   "source": [
    "# An exploratory look at how the two loan status levels relate to the loan sub-grade. "
   ]
  },
  {
   "cell_type": "code",
   "execution_count": 24,
   "metadata": {
    "colab": {
     "base_uri": "https://localhost:8080/"
    },
    "id": "O1l3raoEjzK3",
    "outputId": "9ce3e46e-b631-43a1-ce6f-0a876cac55a1"
   },
   "outputs": [
    {
     "name": "stdout",
     "output_type": "stream",
     "text": [
      "loan_status  Charged Off  Fully Paid\n",
      "sub_grade                           \n",
      "A1                  1282       36546\n",
      "A2                  1633       32699\n",
      "A3                  1994       34043\n",
      "A4                  3447       46636\n",
      "A5                  5190       56493\n",
      "B1                  7156       61870\n",
      "B2                  8166       63988\n",
      "B3                 10363       69592\n",
      "B4                 12085       69473\n",
      "B5                 13499       67371\n",
      "C1                 15888       67942\n",
      "C2                 16078       61711\n",
      "C3                 16559       57003\n",
      "C4                 18183       54817\n",
      "C5                 17186       49020\n",
      "D1                 13841       36043\n",
      "D2                 12819       30496\n",
      "D3                 11460       26096\n",
      "D4                 11047       23025\n",
      "D5                  9531       19022\n",
      "E1                  8216       14516\n",
      "E2                  7684       12794\n",
      "E3                  6825       10838\n",
      "E4                  6080        9087\n",
      "E5                  5802        8091\n",
      "F1                  3384        4749\n",
      "F2                  2709        3337\n",
      "F3                  2254        2750\n",
      "F4                  1888        2054\n",
      "F5                  1373        1452\n",
      "G1                   913        1006\n",
      "G2                   573         688\n",
      "G3                   295         362\n",
      "G4                   181         243\n",
      "G5                   167         190\n"
     ]
    }
   ],
   "source": [
    "#Group based on sub grade and loan status with respective sums of other variables in following columns\n",
    "data_c.groupby(([\"sub_grade\",\"loan_status\"])).sum()\n",
    "tab = pd.crosstab(index = data_c['sub_grade'], columns = data_c['loan_status'])\n",
    "#Print the tab object\n",
    "print(tab)"
   ]
  },
  {
   "cell_type": "markdown",
   "metadata": {
    "id": "i3T7lB20QShb"
   },
   "source": [
    "# Random Forest: \n",
    "- We begin our analysis with a baseline Random Forest Model \n",
    "    - The first few cells focus on ensuring the data is correctly type casted and gaining an overview of our data. "
   ]
  },
  {
   "cell_type": "code",
   "execution_count": 25,
   "metadata": {
    "colab": {
     "base_uri": "https://localhost:8080/",
     "height": 206
    },
    "id": "giNXSJ0gPV8U",
    "outputId": "0d921c20-ba3a-4c00-ffe2-f025a59d8d55"
   },
   "outputs": [
    {
     "data": {
      "text/html": [
       "<div>\n",
       "<style scoped>\n",
       "    .dataframe tbody tr th:only-of-type {\n",
       "        vertical-align: middle;\n",
       "    }\n",
       "\n",
       "    .dataframe tbody tr th {\n",
       "        vertical-align: top;\n",
       "    }\n",
       "\n",
       "    .dataframe thead th {\n",
       "        text-align: right;\n",
       "    }\n",
       "</style>\n",
       "<table border=\"1\" class=\"dataframe\">\n",
       "  <thead>\n",
       "    <tr style=\"text-align: right;\">\n",
       "      <th></th>\n",
       "      <th>open_acc</th>\n",
       "      <th>funded_amnt</th>\n",
       "      <th>int_rate</th>\n",
       "      <th>term</th>\n",
       "      <th>verification_status</th>\n",
       "      <th>annual_inc</th>\n",
       "      <th>dti</th>\n",
       "      <th>installment</th>\n",
       "      <th>application_type</th>\n",
       "      <th>emp_length</th>\n",
       "      <th>grade</th>\n",
       "      <th>sub_grade</th>\n",
       "      <th>home_ownership</th>\n",
       "      <th>loan_status</th>\n",
       "      <th>issue_d</th>\n",
       "      <th>fico</th>\n",
       "      <th>issue_yr</th>\n",
       "    </tr>\n",
       "  </thead>\n",
       "  <tbody>\n",
       "    <tr>\n",
       "      <th>0</th>\n",
       "      <td>7.0</td>\n",
       "      <td>3600.0</td>\n",
       "      <td>13.99</td>\n",
       "      <td>36</td>\n",
       "      <td>Not Verified</td>\n",
       "      <td>55000.0</td>\n",
       "      <td>5.91</td>\n",
       "      <td>123.03</td>\n",
       "      <td>Individual</td>\n",
       "      <td>10+ years</td>\n",
       "      <td>C</td>\n",
       "      <td>C4</td>\n",
       "      <td>MORTGAGE</td>\n",
       "      <td>Fully Paid</td>\n",
       "      <td>Dec-2015</td>\n",
       "      <td>677.0</td>\n",
       "      <td>2015</td>\n",
       "    </tr>\n",
       "    <tr>\n",
       "      <th>1</th>\n",
       "      <td>22.0</td>\n",
       "      <td>24700.0</td>\n",
       "      <td>11.99</td>\n",
       "      <td>36</td>\n",
       "      <td>Not Verified</td>\n",
       "      <td>65000.0</td>\n",
       "      <td>16.06</td>\n",
       "      <td>820.28</td>\n",
       "      <td>Individual</td>\n",
       "      <td>10+ years</td>\n",
       "      <td>C</td>\n",
       "      <td>C1</td>\n",
       "      <td>MORTGAGE</td>\n",
       "      <td>Fully Paid</td>\n",
       "      <td>Dec-2015</td>\n",
       "      <td>717.0</td>\n",
       "      <td>2015</td>\n",
       "    </tr>\n",
       "    <tr>\n",
       "      <th>2</th>\n",
       "      <td>6.0</td>\n",
       "      <td>20000.0</td>\n",
       "      <td>10.78</td>\n",
       "      <td>60</td>\n",
       "      <td>Not Verified</td>\n",
       "      <td>63000.0</td>\n",
       "      <td>10.78</td>\n",
       "      <td>432.66</td>\n",
       "      <td>Joint App</td>\n",
       "      <td>10+ years</td>\n",
       "      <td>B</td>\n",
       "      <td>B4</td>\n",
       "      <td>MORTGAGE</td>\n",
       "      <td>Fully Paid</td>\n",
       "      <td>Dec-2015</td>\n",
       "      <td>697.0</td>\n",
       "      <td>2015</td>\n",
       "    </tr>\n",
       "    <tr>\n",
       "      <th>4</th>\n",
       "      <td>12.0</td>\n",
       "      <td>10400.0</td>\n",
       "      <td>22.45</td>\n",
       "      <td>60</td>\n",
       "      <td>Source Verified</td>\n",
       "      <td>104433.0</td>\n",
       "      <td>25.37</td>\n",
       "      <td>289.91</td>\n",
       "      <td>Individual</td>\n",
       "      <td>3 years</td>\n",
       "      <td>F</td>\n",
       "      <td>F1</td>\n",
       "      <td>MORTGAGE</td>\n",
       "      <td>Fully Paid</td>\n",
       "      <td>Dec-2015</td>\n",
       "      <td>697.0</td>\n",
       "      <td>2015</td>\n",
       "    </tr>\n",
       "    <tr>\n",
       "      <th>5</th>\n",
       "      <td>5.0</td>\n",
       "      <td>11950.0</td>\n",
       "      <td>13.44</td>\n",
       "      <td>36</td>\n",
       "      <td>Source Verified</td>\n",
       "      <td>34000.0</td>\n",
       "      <td>10.20</td>\n",
       "      <td>405.18</td>\n",
       "      <td>Individual</td>\n",
       "      <td>4 years</td>\n",
       "      <td>C</td>\n",
       "      <td>C3</td>\n",
       "      <td>RENT</td>\n",
       "      <td>Fully Paid</td>\n",
       "      <td>Dec-2015</td>\n",
       "      <td>692.0</td>\n",
       "      <td>2015</td>\n",
       "    </tr>\n",
       "  </tbody>\n",
       "</table>\n",
       "</div>"
      ],
      "text/plain": [
       "   open_acc  funded_amnt  int_rate term verification_status  annual_inc  \\\n",
       "0       7.0       3600.0     13.99   36        Not Verified     55000.0   \n",
       "1      22.0      24700.0     11.99   36        Not Verified     65000.0   \n",
       "2       6.0      20000.0     10.78   60        Not Verified     63000.0   \n",
       "4      12.0      10400.0     22.45   60     Source Verified    104433.0   \n",
       "5       5.0      11950.0     13.44   36     Source Verified     34000.0   \n",
       "\n",
       "     dti  installment application_type emp_length grade sub_grade  \\\n",
       "0   5.91       123.03       Individual  10+ years     C        C4   \n",
       "1  16.06       820.28       Individual  10+ years     C        C1   \n",
       "2  10.78       432.66        Joint App  10+ years     B        B4   \n",
       "4  25.37       289.91       Individual    3 years     F        F1   \n",
       "5  10.20       405.18       Individual    4 years     C        C3   \n",
       "\n",
       "  home_ownership loan_status   issue_d   fico issue_yr  \n",
       "0       MORTGAGE  Fully Paid  Dec-2015  677.0     2015  \n",
       "1       MORTGAGE  Fully Paid  Dec-2015  717.0     2015  \n",
       "2       MORTGAGE  Fully Paid  Dec-2015  697.0     2015  \n",
       "4       MORTGAGE  Fully Paid  Dec-2015  697.0     2015  \n",
       "5           RENT  Fully Paid  Dec-2015  692.0     2015  "
      ]
     },
     "execution_count": 25,
     "metadata": {},
     "output_type": "execute_result"
    }
   ],
   "source": [
    "#Print head of cleaned data\n",
    "data_c.head()"
   ]
  },
  {
   "cell_type": "code",
   "execution_count": 26,
   "metadata": {
    "id": "-kyw8IMmQnSa"
   },
   "outputs": [],
   "source": [
    "#Print head of cleaned data\n",
    "data_c['term'] = data_c['term'].astype(int)\n",
    "#Converting issue year to a data type of integer\n",
    "data_c['issue_yr'] = data_c['issue_yr'].astype(int)\n",
    "#Dropping issue date column\n",
    "data_c = data_c.drop(['issue_d'], axis = 1)"
   ]
  },
  {
   "cell_type": "code",
   "execution_count": 27,
   "metadata": {
    "colab": {
     "base_uri": "https://localhost:8080/"
    },
    "id": "tumbLL9lQ1gq",
    "outputId": "526902f8-3654-47fc-9170-43f2f816d2c9"
   },
   "outputs": [
    {
     "name": "stdout",
     "output_type": "stream",
     "text": [
      "<class 'pandas.core.frame.DataFrame'>\n",
      "Int64Index: 1291794 entries, 0 to 2260697\n",
      "Data columns (total 16 columns):\n",
      " #   Column               Non-Null Count    Dtype   \n",
      "---  ------               --------------    -----   \n",
      " 0   open_acc             1291794 non-null  float64 \n",
      " 1   funded_amnt          1291794 non-null  float64 \n",
      " 2   int_rate             1291794 non-null  float64 \n",
      " 3   term                 1291794 non-null  int32   \n",
      " 4   verification_status  1291794 non-null  category\n",
      " 5   annual_inc           1291794 non-null  float64 \n",
      " 6   dti                  1291451 non-null  float64 \n",
      " 7   installment          1291794 non-null  float64 \n",
      " 8   application_type     1291794 non-null  category\n",
      " 9   emp_length           1216733 non-null  category\n",
      " 10  grade                1291794 non-null  category\n",
      " 11  sub_grade            1291794 non-null  category\n",
      " 12  home_ownership       1291794 non-null  category\n",
      " 13  loan_status          1291794 non-null  category\n",
      " 14  fico                 1291794 non-null  float64 \n",
      " 15  issue_yr             1291794 non-null  int32   \n",
      "dtypes: category(7), float64(7), int32(2)\n",
      "memory usage: 97.3 MB\n"
     ]
    }
   ],
   "source": [
    "#Checking what is in cleaned data now after type casting and dropping variables\n",
    "data_c.info()"
   ]
  },
  {
   "cell_type": "code",
   "execution_count": 28,
   "metadata": {
    "colab": {
     "base_uri": "https://localhost:8080/"
    },
    "id": "RFo4aOdlUkAm",
    "outputId": "365ce007-b692-43d1-eb1a-d9cf66fe6958"
   },
   "outputs": [
    {
     "data": {
      "text/plain": [
       "open_acc               0\n",
       "funded_amnt            0\n",
       "int_rate               0\n",
       "term                   0\n",
       "verification_status    0\n",
       "annual_inc             0\n",
       "installment            0\n",
       "application_type       0\n",
       "grade                  0\n",
       "sub_grade              0\n",
       "home_ownership         0\n",
       "loan_status            0\n",
       "fico                   0\n",
       "issue_yr               0\n",
       "dtype: int64"
      ]
     },
     "execution_count": 28,
     "metadata": {},
     "output_type": "execute_result"
    }
   ],
   "source": [
    "#Finding the sum of the missing values in the cleaned data\n",
    "data_c.isna().sum()\n",
    "#Drop the cases of missing values\n",
    "data_c = data_c.dropna(axis = 1)\n",
    "#Confirm the missing value some is now 0 after dropping from before\n",
    "data_c.isnull().sum()"
   ]
  },
  {
   "cell_type": "code",
   "execution_count": 29,
   "metadata": {
    "colab": {
     "base_uri": "https://localhost:8080/"
    },
    "id": "nr58Iw_g_HdH",
    "outputId": "2aaee8b5-5440-4615-90c2-33da3c8755b6"
   },
   "outputs": [
    {
     "data": {
      "text/plain": [
       "array([2015, 2018, 2017, 2016, 2014, 2013, 2012])"
      ]
     },
     "execution_count": 29,
     "metadata": {},
     "output_type": "execute_result"
    }
   ],
   "source": [
    "#Make a copy of the grade column\n",
    "grade = data_c['grade'].copy()\n",
    "#Make a copy of the sub grade column\n",
    "sub_grade = data_c['sub_grade'].copy()\n",
    "#Keep the data with issue years greater than 2012\n",
    "mod_dt = data_c[(data_c[\"issue_yr\"] >= 2012)]\n",
    "#Checking all possible issue years that are there now\n",
    "mod_dt['issue_yr'].unique()"
   ]
  },
  {
   "cell_type": "markdown",
   "metadata": {
    "id": "PEPH-0y3-xRn"
   },
   "source": [
    "# Split the data into Testing and Training data sets \n",
    "- Our training data includes observations where a loan was issued from 2012 -2016\n",
    "-Our testing data includes observations where a loan was issued from 2017-2018\n",
    "\n",
    "### In order to check that the split occured as expected, we count the number of unique values in the 'issue_yr' feature for our training and testing data. "
   ]
  },
  {
   "cell_type": "code",
   "execution_count": 30,
   "metadata": {
    "colab": {
     "base_uri": "https://localhost:8080/"
    },
    "id": "lIIZH06Bq6C3",
    "outputId": "911ee6dc-4c55-4a1a-ea3d-fda4ecdfc408"
   },
   "outputs": [
    {
     "name": "stdout",
     "output_type": "stream",
     "text": [
      "2\n",
      "5\n"
     ]
    }
   ],
   "source": [
    "#Assigning test data to be all data with an issue year greater than or equal to 2017\n",
    "test_data = mod_dt[mod_dt['issue_yr'] >= 2017]\n",
    "#Assigning training data to be all data with an issue year less than 2017\n",
    "train_data = mod_dt[mod_dt['issue_yr'] < 2017]\n",
    "#Printing the number of unique values in the testing data's issue year column. We expect two\n",
    "print(test_data['issue_yr'].nunique())\n",
    "#Printing the number of unique values in the training data's issue year column. We expect five\n",
    "print(train_data['issue_yr'].nunique())"
   ]
  },
  {
   "cell_type": "code",
   "execution_count": 31,
   "metadata": {
    "colab": {
     "base_uri": "https://localhost:8080/",
     "height": 335
    },
    "id": "7_fHQUihsclw",
    "outputId": "2eec6de6-1673-433b-f8d4-57b579e77518"
   },
   "outputs": [
    {
     "data": {
      "text/html": [
       "<div>\n",
       "<style scoped>\n",
       "    .dataframe tbody tr th:only-of-type {\n",
       "        vertical-align: middle;\n",
       "    }\n",
       "\n",
       "    .dataframe tbody tr th {\n",
       "        vertical-align: top;\n",
       "    }\n",
       "\n",
       "    .dataframe thead th {\n",
       "        text-align: right;\n",
       "    }\n",
       "</style>\n",
       "<table border=\"1\" class=\"dataframe\">\n",
       "  <thead>\n",
       "    <tr style=\"text-align: right;\">\n",
       "      <th></th>\n",
       "      <th>open_acc</th>\n",
       "      <th>funded_amnt</th>\n",
       "      <th>int_rate</th>\n",
       "      <th>term</th>\n",
       "      <th>annual_inc</th>\n",
       "      <th>installment</th>\n",
       "      <th>fico</th>\n",
       "      <th>issue_yr</th>\n",
       "      <th>verification_status_Not Verified</th>\n",
       "      <th>verification_status_Source Verified</th>\n",
       "      <th>...</th>\n",
       "      <th>sub_grade_G2</th>\n",
       "      <th>sub_grade_G3</th>\n",
       "      <th>sub_grade_G4</th>\n",
       "      <th>sub_grade_G5</th>\n",
       "      <th>home_ownership_ANY</th>\n",
       "      <th>home_ownership_MORTGAGE</th>\n",
       "      <th>home_ownership_NONE</th>\n",
       "      <th>home_ownership_OTHER</th>\n",
       "      <th>home_ownership_OWN</th>\n",
       "      <th>home_ownership_RENT</th>\n",
       "    </tr>\n",
       "  </thead>\n",
       "  <tbody>\n",
       "    <tr>\n",
       "      <th>0</th>\n",
       "      <td>7.0</td>\n",
       "      <td>3600.0</td>\n",
       "      <td>13.99</td>\n",
       "      <td>36</td>\n",
       "      <td>55000.0</td>\n",
       "      <td>123.03</td>\n",
       "      <td>677.0</td>\n",
       "      <td>2015</td>\n",
       "      <td>1</td>\n",
       "      <td>0</td>\n",
       "      <td>...</td>\n",
       "      <td>0</td>\n",
       "      <td>0</td>\n",
       "      <td>0</td>\n",
       "      <td>0</td>\n",
       "      <td>0</td>\n",
       "      <td>1</td>\n",
       "      <td>0</td>\n",
       "      <td>0</td>\n",
       "      <td>0</td>\n",
       "      <td>0</td>\n",
       "    </tr>\n",
       "    <tr>\n",
       "      <th>1</th>\n",
       "      <td>22.0</td>\n",
       "      <td>24700.0</td>\n",
       "      <td>11.99</td>\n",
       "      <td>36</td>\n",
       "      <td>65000.0</td>\n",
       "      <td>820.28</td>\n",
       "      <td>717.0</td>\n",
       "      <td>2015</td>\n",
       "      <td>1</td>\n",
       "      <td>0</td>\n",
       "      <td>...</td>\n",
       "      <td>0</td>\n",
       "      <td>0</td>\n",
       "      <td>0</td>\n",
       "      <td>0</td>\n",
       "      <td>0</td>\n",
       "      <td>1</td>\n",
       "      <td>0</td>\n",
       "      <td>0</td>\n",
       "      <td>0</td>\n",
       "      <td>0</td>\n",
       "    </tr>\n",
       "    <tr>\n",
       "      <th>2</th>\n",
       "      <td>6.0</td>\n",
       "      <td>20000.0</td>\n",
       "      <td>10.78</td>\n",
       "      <td>60</td>\n",
       "      <td>63000.0</td>\n",
       "      <td>432.66</td>\n",
       "      <td>697.0</td>\n",
       "      <td>2015</td>\n",
       "      <td>1</td>\n",
       "      <td>0</td>\n",
       "      <td>...</td>\n",
       "      <td>0</td>\n",
       "      <td>0</td>\n",
       "      <td>0</td>\n",
       "      <td>0</td>\n",
       "      <td>0</td>\n",
       "      <td>1</td>\n",
       "      <td>0</td>\n",
       "      <td>0</td>\n",
       "      <td>0</td>\n",
       "      <td>0</td>\n",
       "    </tr>\n",
       "    <tr>\n",
       "      <th>4</th>\n",
       "      <td>12.0</td>\n",
       "      <td>10400.0</td>\n",
       "      <td>22.45</td>\n",
       "      <td>60</td>\n",
       "      <td>104433.0</td>\n",
       "      <td>289.91</td>\n",
       "      <td>697.0</td>\n",
       "      <td>2015</td>\n",
       "      <td>0</td>\n",
       "      <td>1</td>\n",
       "      <td>...</td>\n",
       "      <td>0</td>\n",
       "      <td>0</td>\n",
       "      <td>0</td>\n",
       "      <td>0</td>\n",
       "      <td>0</td>\n",
       "      <td>1</td>\n",
       "      <td>0</td>\n",
       "      <td>0</td>\n",
       "      <td>0</td>\n",
       "      <td>0</td>\n",
       "    </tr>\n",
       "    <tr>\n",
       "      <th>5</th>\n",
       "      <td>5.0</td>\n",
       "      <td>11950.0</td>\n",
       "      <td>13.44</td>\n",
       "      <td>36</td>\n",
       "      <td>34000.0</td>\n",
       "      <td>405.18</td>\n",
       "      <td>692.0</td>\n",
       "      <td>2015</td>\n",
       "      <td>0</td>\n",
       "      <td>1</td>\n",
       "      <td>...</td>\n",
       "      <td>0</td>\n",
       "      <td>0</td>\n",
       "      <td>0</td>\n",
       "      <td>0</td>\n",
       "      <td>0</td>\n",
       "      <td>0</td>\n",
       "      <td>0</td>\n",
       "      <td>0</td>\n",
       "      <td>0</td>\n",
       "      <td>1</td>\n",
       "    </tr>\n",
       "  </tbody>\n",
       "</table>\n",
       "<p>5 rows × 61 columns</p>\n",
       "</div>"
      ],
      "text/plain": [
       "   open_acc  funded_amnt  int_rate  term  annual_inc  installment   fico  \\\n",
       "0       7.0       3600.0     13.99    36     55000.0       123.03  677.0   \n",
       "1      22.0      24700.0     11.99    36     65000.0       820.28  717.0   \n",
       "2       6.0      20000.0     10.78    60     63000.0       432.66  697.0   \n",
       "4      12.0      10400.0     22.45    60    104433.0       289.91  697.0   \n",
       "5       5.0      11950.0     13.44    36     34000.0       405.18  692.0   \n",
       "\n",
       "   issue_yr  verification_status_Not Verified  \\\n",
       "0      2015                                 1   \n",
       "1      2015                                 1   \n",
       "2      2015                                 1   \n",
       "4      2015                                 0   \n",
       "5      2015                                 0   \n",
       "\n",
       "   verification_status_Source Verified  ...  sub_grade_G2  sub_grade_G3  \\\n",
       "0                                    0  ...             0             0   \n",
       "1                                    0  ...             0             0   \n",
       "2                                    0  ...             0             0   \n",
       "4                                    1  ...             0             0   \n",
       "5                                    1  ...             0             0   \n",
       "\n",
       "   sub_grade_G4  sub_grade_G5  home_ownership_ANY  home_ownership_MORTGAGE  \\\n",
       "0             0             0                   0                        1   \n",
       "1             0             0                   0                        1   \n",
       "2             0             0                   0                        1   \n",
       "4             0             0                   0                        1   \n",
       "5             0             0                   0                        0   \n",
       "\n",
       "   home_ownership_NONE  home_ownership_OTHER  home_ownership_OWN  \\\n",
       "0                    0                     0                   0   \n",
       "1                    0                     0                   0   \n",
       "2                    0                     0                   0   \n",
       "4                    0                     0                   0   \n",
       "5                    0                     0                   0   \n",
       "\n",
       "   home_ownership_RENT  \n",
       "0                    0  \n",
       "1                    0  \n",
       "2                    0  \n",
       "4                    0  \n",
       "5                    1  \n",
       "\n",
       "[5 rows x 61 columns]"
      ]
     },
     "metadata": {},
     "output_type": "display_data"
    },
    {
     "data": {
      "text/plain": [
       "(1045866,)"
      ]
     },
     "execution_count": 31,
     "metadata": {},
     "output_type": "execute_result"
    }
   ],
   "source": [
    "#Current columns in training data\n",
    "train_data.columns\n",
    "\n",
    "#Create a new dataframe X that includes only our feature variables\n",
    "X_train = train_data.loc[:,data_c.columns != 'loan_status'].copy()\n",
    "#Create a new dataframe y that includes only our feature variables\n",
    "y_train = train_data['loan_status'].copy()\n",
    "#Retrieve everything but the loan status column from X test data\n",
    "X_test = test_data.loc[:,data_c.columns != 'loan_status'].copy()\n",
    "#Retrieve the loan status column from y test data\n",
    "y_test = test_data['loan_status'].copy()\n",
    "#One hot encode the categorical features to make them machine readable for X_test \n",
    "X_test = pd.get_dummies(X_test, drop_first=False).copy()\n",
    "#One hot encode the categorical features to make them machine readable for X_train \n",
    "X_train= pd.get_dummies(X_train, drop_first=False).copy()\n",
    "#Show the first five rows of X_train\n",
    "display(X_train.head())\n",
    "#Calculate the sum of the missing values from the X training data\n",
    "X_train.isna().sum()\n",
    "#Calculate the sum of the missing values from the y training data\n",
    "y_train.isnull().sum()\n",
    "#Shows us the number of rows and columns in y_train\n",
    "y_train.shape"
   ]
  },
  {
   "cell_type": "code",
   "execution_count": 32,
   "metadata": {
    "colab": {
     "base_uri": "https://localhost:8080/"
    },
    "id": "GG6b50JLi8ci",
    "outputId": "41f2da03-643d-49db-cd67-457b5d1ea309"
   },
   "outputs": [],
   "source": [
    "\n",
    "#Store X-train funded_amnt in new object called funded_amnt_unscaled\n",
    "funded_amnt_unscaled= X_train['funded_amnt'].copy()\n",
    "#Store X-test funded_amnt in new object called funded_amnt_unscaled_test\n",
    "funded_amnt_unscaled_test= X_test['funded_amnt'].copy()\n"
   ]
  },
  {
   "cell_type": "markdown",
   "metadata": {
    "id": "SmWU-J40_ohZ"
   },
   "source": [
    "# Define a function that will scale features. \n",
    "- Since Random Forest relies on Eucladian distrance, feature scaling is a critical step\n",
    "- This action maintains each feature's disbtribution while removing the effects of different scales on our model"
   ]
  },
  {
   "cell_type": "code",
   "execution_count": 33,
   "metadata": {
    "colab": {
     "base_uri": "https://localhost:8080/",
     "height": 411
    },
    "id": "Wmw13GdsSYii",
    "outputId": "f8b64cd6-f123-4d18-98b9-9f45e54a1f12"
   },
   "outputs": [
    {
     "data": {
      "text/html": [
       "<div>\n",
       "<style scoped>\n",
       "    .dataframe tbody tr th:only-of-type {\n",
       "        vertical-align: middle;\n",
       "    }\n",
       "\n",
       "    .dataframe tbody tr th {\n",
       "        vertical-align: top;\n",
       "    }\n",
       "\n",
       "    .dataframe thead th {\n",
       "        text-align: right;\n",
       "    }\n",
       "</style>\n",
       "<table border=\"1\" class=\"dataframe\">\n",
       "  <thead>\n",
       "    <tr style=\"text-align: right;\">\n",
       "      <th></th>\n",
       "      <th>open_acc</th>\n",
       "      <th>funded_amnt</th>\n",
       "      <th>int_rate</th>\n",
       "      <th>term</th>\n",
       "      <th>annual_inc</th>\n",
       "      <th>installment</th>\n",
       "      <th>fico</th>\n",
       "      <th>issue_yr</th>\n",
       "      <th>verification_status_Not Verified</th>\n",
       "      <th>verification_status_Source Verified</th>\n",
       "      <th>...</th>\n",
       "      <th>sub_grade_G2</th>\n",
       "      <th>sub_grade_G3</th>\n",
       "      <th>sub_grade_G4</th>\n",
       "      <th>sub_grade_G5</th>\n",
       "      <th>home_ownership_ANY</th>\n",
       "      <th>home_ownership_MORTGAGE</th>\n",
       "      <th>home_ownership_NONE</th>\n",
       "      <th>home_ownership_OTHER</th>\n",
       "      <th>home_ownership_OWN</th>\n",
       "      <th>home_ownership_RENT</th>\n",
       "    </tr>\n",
       "  </thead>\n",
       "  <tbody>\n",
       "    <tr>\n",
       "      <th>count</th>\n",
       "      <td>1.045866e+06</td>\n",
       "      <td>1.045866e+06</td>\n",
       "      <td>1.045866e+06</td>\n",
       "      <td>1.045866e+06</td>\n",
       "      <td>1.045866e+06</td>\n",
       "      <td>1.045866e+06</td>\n",
       "      <td>1.045866e+06</td>\n",
       "      <td>1.045866e+06</td>\n",
       "      <td>1.045866e+06</td>\n",
       "      <td>1.045866e+06</td>\n",
       "      <td>...</td>\n",
       "      <td>1.045866e+06</td>\n",
       "      <td>1.045866e+06</td>\n",
       "      <td>1.045866e+06</td>\n",
       "      <td>1.045866e+06</td>\n",
       "      <td>1.045866e+06</td>\n",
       "      <td>1.045866e+06</td>\n",
       "      <td>1.045866e+06</td>\n",
       "      <td>1.045866e+06</td>\n",
       "      <td>1.045866e+06</td>\n",
       "      <td>1.045866e+06</td>\n",
       "    </tr>\n",
       "    <tr>\n",
       "      <th>mean</th>\n",
       "      <td>4.079238e-01</td>\n",
       "      <td>3.414668e-01</td>\n",
       "      <td>3.528754e-01</td>\n",
       "      <td>2.386262e-01</td>\n",
       "      <td>1.770765e-01</td>\n",
       "      <td>3.454165e-01</td>\n",
       "      <td>2.462024e-01</td>\n",
       "      <td>2.014655e+03</td>\n",
       "      <td>2.889672e-01</td>\n",
       "      <td>3.922539e-01</td>\n",
       "      <td>...</td>\n",
       "      <td>1.131120e-03</td>\n",
       "      <td>5.822926e-04</td>\n",
       "      <td>3.566422e-04</td>\n",
       "      <td>3.164841e-04</td>\n",
       "      <td>6.119331e-05</td>\n",
       "      <td>4.917418e-01</td>\n",
       "      <td>4.015811e-05</td>\n",
       "      <td>4.302654e-05</td>\n",
       "      <td>1.047257e-01</td>\n",
       "      <td>4.033882e-01</td>\n",
       "    </tr>\n",
       "    <tr>\n",
       "      <th>std</th>\n",
       "      <td>1.755348e-01</td>\n",
       "      <td>2.140426e-01</td>\n",
       "      <td>2.025024e-01</td>\n",
       "      <td>4.262439e-01</td>\n",
       "      <td>1.027593e-01</td>\n",
       "      <td>1.981693e-01</td>\n",
       "      <td>2.099295e-01</td>\n",
       "      <td>1.145052e+00</td>\n",
       "      <td>4.532829e-01</td>\n",
       "      <td>4.882530e-01</td>\n",
       "      <td>...</td>\n",
       "      <td>3.361312e-02</td>\n",
       "      <td>2.412372e-02</td>\n",
       "      <td>1.888162e-02</td>\n",
       "      <td>1.778719e-02</td>\n",
       "      <td>7.822380e-03</td>\n",
       "      <td>4.999320e-01</td>\n",
       "      <td>6.336918e-03</td>\n",
       "      <td>6.559324e-03</td>\n",
       "      <td>3.061997e-01</td>\n",
       "      <td>4.905776e-01</td>\n",
       "    </tr>\n",
       "    <tr>\n",
       "      <th>min</th>\n",
       "      <td>0.000000e+00</td>\n",
       "      <td>0.000000e+00</td>\n",
       "      <td>0.000000e+00</td>\n",
       "      <td>0.000000e+00</td>\n",
       "      <td>0.000000e+00</td>\n",
       "      <td>0.000000e+00</td>\n",
       "      <td>0.000000e+00</td>\n",
       "      <td>2.012000e+03</td>\n",
       "      <td>0.000000e+00</td>\n",
       "      <td>0.000000e+00</td>\n",
       "      <td>...</td>\n",
       "      <td>0.000000e+00</td>\n",
       "      <td>0.000000e+00</td>\n",
       "      <td>0.000000e+00</td>\n",
       "      <td>0.000000e+00</td>\n",
       "      <td>0.000000e+00</td>\n",
       "      <td>0.000000e+00</td>\n",
       "      <td>0.000000e+00</td>\n",
       "      <td>0.000000e+00</td>\n",
       "      <td>0.000000e+00</td>\n",
       "      <td>0.000000e+00</td>\n",
       "    </tr>\n",
       "    <tr>\n",
       "      <th>25%</th>\n",
       "      <td>2.857143e-01</td>\n",
       "      <td>1.794872e-01</td>\n",
       "      <td>1.998196e-01</td>\n",
       "      <td>0.000000e+00</td>\n",
       "      <td>1.081731e-01</td>\n",
       "      <td>2.006069e-01</td>\n",
       "      <td>7.407407e-02</td>\n",
       "      <td>2.014000e+03</td>\n",
       "      <td>0.000000e+00</td>\n",
       "      <td>0.000000e+00</td>\n",
       "      <td>...</td>\n",
       "      <td>0.000000e+00</td>\n",
       "      <td>0.000000e+00</td>\n",
       "      <td>0.000000e+00</td>\n",
       "      <td>0.000000e+00</td>\n",
       "      <td>0.000000e+00</td>\n",
       "      <td>0.000000e+00</td>\n",
       "      <td>0.000000e+00</td>\n",
       "      <td>0.000000e+00</td>\n",
       "      <td>0.000000e+00</td>\n",
       "      <td>0.000000e+00</td>\n",
       "    </tr>\n",
       "    <tr>\n",
       "      <th>50%</th>\n",
       "      <td>3.928571e-01</td>\n",
       "      <td>2.820513e-01</td>\n",
       "      <td>3.369418e-01</td>\n",
       "      <td>0.000000e+00</td>\n",
       "      <td>1.560096e-01</td>\n",
       "      <td>2.997835e-01</td>\n",
       "      <td>1.851852e-01</td>\n",
       "      <td>2.015000e+03</td>\n",
       "      <td>0.000000e+00</td>\n",
       "      <td>0.000000e+00</td>\n",
       "      <td>...</td>\n",
       "      <td>0.000000e+00</td>\n",
       "      <td>0.000000e+00</td>\n",
       "      <td>0.000000e+00</td>\n",
       "      <td>0.000000e+00</td>\n",
       "      <td>0.000000e+00</td>\n",
       "      <td>0.000000e+00</td>\n",
       "      <td>0.000000e+00</td>\n",
       "      <td>0.000000e+00</td>\n",
       "      <td>0.000000e+00</td>\n",
       "      <td>0.000000e+00</td>\n",
       "    </tr>\n",
       "    <tr>\n",
       "      <th>75%</th>\n",
       "      <td>5.000000e-01</td>\n",
       "      <td>4.871795e-01</td>\n",
       "      <td>4.727109e-01</td>\n",
       "      <td>0.000000e+00</td>\n",
       "      <td>2.163462e-01</td>\n",
       "      <td>4.579299e-01</td>\n",
       "      <td>3.703704e-01</td>\n",
       "      <td>2.016000e+03</td>\n",
       "      <td>1.000000e+00</td>\n",
       "      <td>1.000000e+00</td>\n",
       "      <td>...</td>\n",
       "      <td>0.000000e+00</td>\n",
       "      <td>0.000000e+00</td>\n",
       "      <td>0.000000e+00</td>\n",
       "      <td>0.000000e+00</td>\n",
       "      <td>0.000000e+00</td>\n",
       "      <td>1.000000e+00</td>\n",
       "      <td>0.000000e+00</td>\n",
       "      <td>0.000000e+00</td>\n",
       "      <td>0.000000e+00</td>\n",
       "      <td>1.000000e+00</td>\n",
       "    </tr>\n",
       "    <tr>\n",
       "      <th>max</th>\n",
       "      <td>1.000000e+00</td>\n",
       "      <td>1.000000e+00</td>\n",
       "      <td>1.000000e+00</td>\n",
       "      <td>1.000000e+00</td>\n",
       "      <td>1.000000e+00</td>\n",
       "      <td>1.000000e+00</td>\n",
       "      <td>1.000000e+00</td>\n",
       "      <td>2.016000e+03</td>\n",
       "      <td>1.000000e+00</td>\n",
       "      <td>1.000000e+00</td>\n",
       "      <td>...</td>\n",
       "      <td>1.000000e+00</td>\n",
       "      <td>1.000000e+00</td>\n",
       "      <td>1.000000e+00</td>\n",
       "      <td>1.000000e+00</td>\n",
       "      <td>1.000000e+00</td>\n",
       "      <td>1.000000e+00</td>\n",
       "      <td>1.000000e+00</td>\n",
       "      <td>1.000000e+00</td>\n",
       "      <td>1.000000e+00</td>\n",
       "      <td>1.000000e+00</td>\n",
       "    </tr>\n",
       "  </tbody>\n",
       "</table>\n",
       "<p>8 rows × 61 columns</p>\n",
       "</div>"
      ],
      "text/plain": [
       "           open_acc   funded_amnt      int_rate          term    annual_inc  \\\n",
       "count  1.045866e+06  1.045866e+06  1.045866e+06  1.045866e+06  1.045866e+06   \n",
       "mean   4.079238e-01  3.414668e-01  3.528754e-01  2.386262e-01  1.770765e-01   \n",
       "std    1.755348e-01  2.140426e-01  2.025024e-01  4.262439e-01  1.027593e-01   \n",
       "min    0.000000e+00  0.000000e+00  0.000000e+00  0.000000e+00  0.000000e+00   \n",
       "25%    2.857143e-01  1.794872e-01  1.998196e-01  0.000000e+00  1.081731e-01   \n",
       "50%    3.928571e-01  2.820513e-01  3.369418e-01  0.000000e+00  1.560096e-01   \n",
       "75%    5.000000e-01  4.871795e-01  4.727109e-01  0.000000e+00  2.163462e-01   \n",
       "max    1.000000e+00  1.000000e+00  1.000000e+00  1.000000e+00  1.000000e+00   \n",
       "\n",
       "        installment          fico      issue_yr  \\\n",
       "count  1.045866e+06  1.045866e+06  1.045866e+06   \n",
       "mean   3.454165e-01  2.462024e-01  2.014655e+03   \n",
       "std    1.981693e-01  2.099295e-01  1.145052e+00   \n",
       "min    0.000000e+00  0.000000e+00  2.012000e+03   \n",
       "25%    2.006069e-01  7.407407e-02  2.014000e+03   \n",
       "50%    2.997835e-01  1.851852e-01  2.015000e+03   \n",
       "75%    4.579299e-01  3.703704e-01  2.016000e+03   \n",
       "max    1.000000e+00  1.000000e+00  2.016000e+03   \n",
       "\n",
       "       verification_status_Not Verified  verification_status_Source Verified  \\\n",
       "count                      1.045866e+06                         1.045866e+06   \n",
       "mean                       2.889672e-01                         3.922539e-01   \n",
       "std                        4.532829e-01                         4.882530e-01   \n",
       "min                        0.000000e+00                         0.000000e+00   \n",
       "25%                        0.000000e+00                         0.000000e+00   \n",
       "50%                        0.000000e+00                         0.000000e+00   \n",
       "75%                        1.000000e+00                         1.000000e+00   \n",
       "max                        1.000000e+00                         1.000000e+00   \n",
       "\n",
       "       ...  sub_grade_G2  sub_grade_G3  sub_grade_G4  sub_grade_G5  \\\n",
       "count  ...  1.045866e+06  1.045866e+06  1.045866e+06  1.045866e+06   \n",
       "mean   ...  1.131120e-03  5.822926e-04  3.566422e-04  3.164841e-04   \n",
       "std    ...  3.361312e-02  2.412372e-02  1.888162e-02  1.778719e-02   \n",
       "min    ...  0.000000e+00  0.000000e+00  0.000000e+00  0.000000e+00   \n",
       "25%    ...  0.000000e+00  0.000000e+00  0.000000e+00  0.000000e+00   \n",
       "50%    ...  0.000000e+00  0.000000e+00  0.000000e+00  0.000000e+00   \n",
       "75%    ...  0.000000e+00  0.000000e+00  0.000000e+00  0.000000e+00   \n",
       "max    ...  1.000000e+00  1.000000e+00  1.000000e+00  1.000000e+00   \n",
       "\n",
       "       home_ownership_ANY  home_ownership_MORTGAGE  home_ownership_NONE  \\\n",
       "count        1.045866e+06             1.045866e+06         1.045866e+06   \n",
       "mean         6.119331e-05             4.917418e-01         4.015811e-05   \n",
       "std          7.822380e-03             4.999320e-01         6.336918e-03   \n",
       "min          0.000000e+00             0.000000e+00         0.000000e+00   \n",
       "25%          0.000000e+00             0.000000e+00         0.000000e+00   \n",
       "50%          0.000000e+00             0.000000e+00         0.000000e+00   \n",
       "75%          0.000000e+00             1.000000e+00         0.000000e+00   \n",
       "max          1.000000e+00             1.000000e+00         1.000000e+00   \n",
       "\n",
       "       home_ownership_OTHER  home_ownership_OWN  home_ownership_RENT  \n",
       "count          1.045866e+06        1.045866e+06         1.045866e+06  \n",
       "mean           4.302654e-05        1.047257e-01         4.033882e-01  \n",
       "std            6.559324e-03        3.061997e-01         4.905776e-01  \n",
       "min            0.000000e+00        0.000000e+00         0.000000e+00  \n",
       "25%            0.000000e+00        0.000000e+00         0.000000e+00  \n",
       "50%            0.000000e+00        0.000000e+00         0.000000e+00  \n",
       "75%            0.000000e+00        0.000000e+00         1.000000e+00  \n",
       "max            1.000000e+00        1.000000e+00         1.000000e+00  \n",
       "\n",
       "[8 rows x 61 columns]"
      ]
     },
     "execution_count": 33,
     "metadata": {},
     "output_type": "execute_result"
    }
   ],
   "source": [
    "#Borrowed from COMP488 notes\n",
    "#This function loops through columns in a feature set and defines a predefined scaler for each\n",
    "def scale_numeric(features, numeric_features, scaler):\n",
    "    #For loop through each numeric column\n",
    "    for col in numeric_features:\n",
    "       #Reshaping the columns\n",
    "        features[col] = scaler.fit_transform(features[col].values.reshape(-1, 1))\n",
    "     #Return the columnn\n",
    "    return features\n",
    "\n",
    "#We now define the scaler we want to use and apply it to our features \n",
    "#Initialize the list of numeric_features\n",
    "numeric_features = ['open_acc', 'funded_amnt', 'int_rate', 'term', 'annual_inc',\n",
    "       'installment', 'fico',]\n",
    "       #Store MinMaxScaler function in scaler object\n",
    "scaler = MinMaxScaler()\n",
    "#Call scale_numeric function in X_train\n",
    "X_train_scaled = scale_numeric(X_train, numeric_features, scaler)\n",
    "#Call scale_numeric function in X_test\n",
    "X_test_scaled = scale_numeric(X_test, numeric_features, scaler)\n",
    "#Check to see if it worked\n",
    "X_train_scaled.describe()"
   ]
  },
  {
   "cell_type": "code",
   "execution_count": 34,
   "metadata": {
    "colab": {
     "base_uri": "https://localhost:8080/"
    },
    "id": "ZF6smywTTnE9",
    "outputId": "6ec8ffd2-b905-4f0c-dab0-caec1750328c"
   },
   "outputs": [
    {
     "data": {
      "text/plain": [
       "open_acc                   0\n",
       "funded_amnt                0\n",
       "int_rate                   0\n",
       "term                       0\n",
       "annual_inc                 0\n",
       "                          ..\n",
       "home_ownership_MORTGAGE    0\n",
       "home_ownership_NONE        0\n",
       "home_ownership_OTHER       0\n",
       "home_ownership_OWN         0\n",
       "home_ownership_RENT        0\n",
       "Length: 61, dtype: int64"
      ]
     },
     "execution_count": 34,
     "metadata": {},
     "output_type": "execute_result"
    }
   ],
   "source": [
    "#Check to see the missing values in X_train_scaled\n",
    "X_train_scaled.isna().sum()"
   ]
  },
  {
   "cell_type": "markdown",
   "metadata": {
    "id": "208fi3CaLZ-J"
   },
   "source": [
    "# This is assurance that our testing and training data have symmetrical shapes. "
   ]
  },
  {
   "cell_type": "code",
   "execution_count": 35,
   "metadata": {
    "colab": {
     "base_uri": "https://localhost:8080/"
    },
    "id": "SrsRvesITGk8",
    "outputId": "1a37b7d3-f2ab-4d8a-91c8-e61ac562782c"
   },
   "outputs": [
    {
     "name": "stdout",
     "output_type": "stream",
     "text": [
      "Train: Response Variable:  (1045866,)\n",
      "Train: Feature Variables:  (1045866, 61)\n",
      "Test: Response Variable:  (206921,)\n",
      "Test: Feature Variables:  (206921, 61)\n"
     ]
    }
   ],
   "source": [
    "\n",
    "#Check if data have right shape\n",
    "#Print the train response variable shape\n",
    "print(\"Train: Response Variable: \",y_train.shape)\n",
    "#Print the train feature variables shape\n",
    "print(\"Train: Feature Variables: \",X_train_scaled.shape)\n",
    "#Print the test response variable shape\n",
    "print(\"Test: Response Variable: \",y_test.shape)\n",
    "#Print the test feature variables shape\n",
    "print(\"Test: Feature Variables: \",X_test_scaled.shape)"
   ]
  },
  {
   "cell_type": "code",
   "execution_count": 36,
   "metadata": {
    "colab": {
     "base_uri": "https://localhost:8080/"
    },
    "id": "tMHR9j4pXnnC",
    "outputId": "cd30a240-58cc-430d-8f21-55494eb859d0"
   },
   "outputs": [
    {
     "name": "stdout",
     "output_type": "stream",
     "text": [
      "Model Accuracy is 0.7760014691597277\n",
      "\n"
     ]
    }
   ],
   "source": [
    "#Instantiate a random forests classifier\n",
    "rf = RandomForestClassifier(n_estimators=25, criterion='gini')\n",
    "#Fit'rf' to the training set\n",
    "rf.fit(X_train_scaled, y_train)\n",
    "#Predict the test set labels 'y_pred'\n",
    "y_pred = rf.predict(X_test_scaled)\n",
    "#Print model accuracy\n",
    "print(f'Model Accuracy is {accuracy_score(y_test, y_pred)}\\n')"
   ]
  },
  {
   "cell_type": "markdown",
   "metadata": {
    "id": "El1G6YZxmdPf"
   },
   "source": [
    "# Model Performance\n",
    "- we look at a confusion matrix to evaluate the performance of our model. \n",
    "- this will give us a better understanding than simly looking at the accuracy score reported above"
   ]
  },
  {
   "cell_type": "code",
   "execution_count": 37,
   "metadata": {
    "colab": {
     "base_uri": "https://localhost:8080/",
     "height": 498
    },
    "id": "vIwZ9h1Fn9Xz",
    "outputId": "2a74dd07-0845-4907-f5e5-196ba38cf5a1",
    "scrolled": false
   },
   "outputs": [
    {
     "name": "stdout",
     "output_type": "stream",
     "text": [
      "              precision    recall  f1-score   support\n",
      "\n",
      " Charged Off       0.38      0.13      0.19     42731\n",
      "  Fully Paid       0.81      0.94      0.87    164190\n",
      "\n",
      "    accuracy                           0.78    206921\n",
      "   macro avg       0.59      0.54      0.53    206921\n",
      "weighted avg       0.72      0.78      0.73    206921\n",
      "\n"
     ]
    },
    {
     "data": {
      "image/png": "[encoded data removed]",
      "text/plain": [
       "<Figure size 432x288 with 2 Axes>"
      ]
     },
     "metadata": {
      "needs_background": "light"
     },
     "output_type": "display_data"
    }
   ],
   "source": [
    "#Borrowed from COMP488 notes\n",
    "#Visualize the confusion matrix to make it easier to read\n",
    "con_matrix = confusion_matrix(y_test, y_pred)\n",
    "#Create data frame with confusion matrix labels of charged off and fully paid\n",
    "confusion_matrix_df = pd.DataFrame(con_matrix, ('Charged Off', 'Fully Paid'), ('Charged Off', 'Fully Paid'))\n",
    "#Initialize the heatmap confusion matrix\n",
    "heatmap = sns.heatmap(confusion_matrix_df, annot=True, annot_kws={\"size\": 20}, fmt=\"d\", cmap=\"Blues\")\n",
    "#Edit the y axis labels on the heatmap confusion matrix\n",
    "heatmap.yaxis.set_ticklabels(heatmap.yaxis.get_ticklabels(), rotation=0, ha='right', fontsize = 14)\n",
    "#Edit the x axis labels on the heatmap confusion matrix\n",
    "heatmap.xaxis.set_ticklabels(heatmap.xaxis.get_ticklabels(), rotation=45, ha='right', fontsize = 14)\n",
    "#Plot the y label actual on the matrix\n",
    "plt.ylabel('Actual', fontsize = 14)\n",
    "#Plot the x label predicted on the matrix\n",
    "plt.xlabel('Predicted', fontsize = 14)\n",
    "# Print the classification report\n",
    "print(classification_report(y_test, y_pred))\n"
   ]
  },
  {
   "cell_type": "markdown",
   "metadata": {
    "id": "n7dL_5qct6ea"
   },
   "source": [
    "# Improved Random Forest Model (Model 2)\n",
    "\n",
    "## Upsampling\n",
    "\n",
    "- We realized that one major issue with our baseline random forest model is the asymmetry in our training data along our y variable. \n",
    "   - Our model is predicitng loan status\n",
    "   -However, our data has many more 'Fully Paid' loans when compared to 'Charged Off' loans.\n",
    "- We will upsample the number of 'Charged Off' loans in our training data, so that our model will be able to perform better on our testing data. "
   ]
  },
  {
   "cell_type": "code",
   "execution_count": 38,
   "metadata": {
    "id": "vJqdN57ZttcC"
   },
   "outputs": [],
   "source": [
    "#Create object minority that contains a loan status of charged off\n",
    "minority = train_data[train_data['loan_status'] == 'Charged Off']\n",
    "#Create object majority that contains a loan status of fully paid\n",
    "majority = train_data[train_data['loan_status'] == 'Fully Paid']"
   ]
  },
  {
   "cell_type": "code",
   "execution_count": 39,
   "metadata": {
    "id": "9ykHRp2-zSkv"
   },
   "outputs": [
    {
     "name": "stderr",
     "output_type": "stream",
     "text": [
      "C:\\Users\\kangd\\AppData\\Local\\Temp\\ipykernel_99544\\337745525.py:4: FutureWarning: The frame.append method is deprecated and will be removed from pandas in a future version. Use pandas.concat instead.\n",
      "  upsampled_data = majority.append(minority_upsampled)\n"
     ]
    }
   ],
   "source": [
    "#Creating half the data by resampling on the size of the majority sample\n",
    "minority_upsampled = resample(minority, replace = True, n_samples = len(majority.index))\n",
    "#Join the majority sample and upsampled minority in one object\n",
    "upsampled_data = majority.append(minority_upsampled)"
   ]
  },
  {
   "cell_type": "code",
   "execution_count": 40,
   "metadata": {
    "colab": {
     "base_uri": "https://localhost:8080/",
     "height": 143
    },
    "id": "t-OCfP6Iz1E5",
    "outputId": "85f1079d-b92b-41dc-dda3-c8ecc5c34f11"
   },
   "outputs": [
    {
     "data": {
      "text/html": [
       "<div>\n",
       "<style scoped>\n",
       "    .dataframe tbody tr th:only-of-type {\n",
       "        vertical-align: middle;\n",
       "    }\n",
       "\n",
       "    .dataframe tbody tr th {\n",
       "        vertical-align: top;\n",
       "    }\n",
       "\n",
       "    .dataframe thead th {\n",
       "        text-align: right;\n",
       "    }\n",
       "</style>\n",
       "<table border=\"1\" class=\"dataframe\">\n",
       "  <thead>\n",
       "    <tr style=\"text-align: right;\">\n",
       "      <th></th>\n",
       "      <th>open_acc</th>\n",
       "      <th>funded_amnt</th>\n",
       "      <th>int_rate</th>\n",
       "      <th>term</th>\n",
       "      <th>verification_status</th>\n",
       "      <th>annual_inc</th>\n",
       "      <th>installment</th>\n",
       "      <th>application_type</th>\n",
       "      <th>grade</th>\n",
       "      <th>sub_grade</th>\n",
       "      <th>home_ownership</th>\n",
       "      <th>fico</th>\n",
       "      <th>issue_yr</th>\n",
       "    </tr>\n",
       "    <tr>\n",
       "      <th>loan_status</th>\n",
       "      <th></th>\n",
       "      <th></th>\n",
       "      <th></th>\n",
       "      <th></th>\n",
       "      <th></th>\n",
       "      <th></th>\n",
       "      <th></th>\n",
       "      <th></th>\n",
       "      <th></th>\n",
       "      <th></th>\n",
       "      <th></th>\n",
       "      <th></th>\n",
       "      <th></th>\n",
       "    </tr>\n",
       "  </thead>\n",
       "  <tbody>\n",
       "    <tr>\n",
       "      <th>Charged Off</th>\n",
       "      <td>838453</td>\n",
       "      <td>838453</td>\n",
       "      <td>838453</td>\n",
       "      <td>838453</td>\n",
       "      <td>838453</td>\n",
       "      <td>838453</td>\n",
       "      <td>838453</td>\n",
       "      <td>838453</td>\n",
       "      <td>838453</td>\n",
       "      <td>838453</td>\n",
       "      <td>838453</td>\n",
       "      <td>838453</td>\n",
       "      <td>838453</td>\n",
       "    </tr>\n",
       "    <tr>\n",
       "      <th>Fully Paid</th>\n",
       "      <td>838453</td>\n",
       "      <td>838453</td>\n",
       "      <td>838453</td>\n",
       "      <td>838453</td>\n",
       "      <td>838453</td>\n",
       "      <td>838453</td>\n",
       "      <td>838453</td>\n",
       "      <td>838453</td>\n",
       "      <td>838453</td>\n",
       "      <td>838453</td>\n",
       "      <td>838453</td>\n",
       "      <td>838453</td>\n",
       "      <td>838453</td>\n",
       "    </tr>\n",
       "  </tbody>\n",
       "</table>\n",
       "</div>"
      ],
      "text/plain": [
       "             open_acc  funded_amnt  int_rate    term  verification_status  \\\n",
       "loan_status                                                                 \n",
       "Charged Off    838453       838453    838453  838453               838453   \n",
       "Fully Paid     838453       838453    838453  838453               838453   \n",
       "\n",
       "             annual_inc  installment  application_type   grade  sub_grade  \\\n",
       "loan_status                                                                 \n",
       "Charged Off      838453       838453            838453  838453     838453   \n",
       "Fully Paid       838453       838453            838453  838453     838453   \n",
       "\n",
       "             home_ownership    fico  issue_yr  \n",
       "loan_status                                    \n",
       "Charged Off          838453  838453    838453  \n",
       "Fully Paid           838453  838453    838453  "
      ]
     },
     "execution_count": 40,
     "metadata": {},
     "output_type": "execute_result"
    }
   ],
   "source": [
    "#Find the number of charged off and fully paid loans in the unsampled_data\n",
    "upsampled_data.groupby(['loan_status']).count()"
   ]
  },
  {
   "cell_type": "markdown",
   "metadata": {
    "id": "xXTkAJWPB8zz"
   },
   "source": [
    "# Split our upsampled data into a training and testing set\n",
    "- the training data contains cases from years 2012 -2016\n",
    "- the testing data contains csaes from years 2017-2018"
   ]
  },
  {
   "cell_type": "code",
   "execution_count": 41,
   "metadata": {
    "id": "1Nbz0AIyRIGY"
   },
   "outputs": [],
   "source": [
    "#Keep the data with issue years greater than 2012\n",
    "mod_dt = upsampled_data[(upsampled_data[\"issue_yr\"] >= 2012)]\n",
    "#Assigning test data to be all data with an issue year greater than or equal to 2017\n",
    "upsampled_test_data = mod_dt[mod_dt['issue_yr'] >= 2017]\n",
    "#Assigning training data to be all data with an issue year less than 2017\n",
    "upsampled_train_data = mod_dt[mod_dt['issue_yr'] < 2017]"
   ]
  },
  {
   "cell_type": "code",
   "execution_count": 42,
   "metadata": {
    "colab": {
     "base_uri": "https://localhost:8080/",
     "height": 317
    },
    "id": "eAtMonO0RIGY",
    "outputId": "f3f1247e-b698-4916-fdc4-6d46318edef2"
   },
   "outputs": [
    {
     "data": {
      "text/html": [
       "<div>\n",
       "<style scoped>\n",
       "    .dataframe tbody tr th:only-of-type {\n",
       "        vertical-align: middle;\n",
       "    }\n",
       "\n",
       "    .dataframe tbody tr th {\n",
       "        vertical-align: top;\n",
       "    }\n",
       "\n",
       "    .dataframe thead th {\n",
       "        text-align: right;\n",
       "    }\n",
       "</style>\n",
       "<table border=\"1\" class=\"dataframe\">\n",
       "  <thead>\n",
       "    <tr style=\"text-align: right;\">\n",
       "      <th></th>\n",
       "      <th>open_acc</th>\n",
       "      <th>funded_amnt</th>\n",
       "      <th>int_rate</th>\n",
       "      <th>term</th>\n",
       "      <th>annual_inc</th>\n",
       "      <th>installment</th>\n",
       "      <th>fico</th>\n",
       "      <th>issue_yr</th>\n",
       "      <th>verification_status_Not Verified</th>\n",
       "      <th>verification_status_Source Verified</th>\n",
       "      <th>...</th>\n",
       "      <th>sub_grade_G2</th>\n",
       "      <th>sub_grade_G3</th>\n",
       "      <th>sub_grade_G4</th>\n",
       "      <th>sub_grade_G5</th>\n",
       "      <th>home_ownership_ANY</th>\n",
       "      <th>home_ownership_MORTGAGE</th>\n",
       "      <th>home_ownership_NONE</th>\n",
       "      <th>home_ownership_OTHER</th>\n",
       "      <th>home_ownership_OWN</th>\n",
       "      <th>home_ownership_RENT</th>\n",
       "    </tr>\n",
       "  </thead>\n",
       "  <tbody>\n",
       "    <tr>\n",
       "      <th>0</th>\n",
       "      <td>7.0</td>\n",
       "      <td>3600.0</td>\n",
       "      <td>13.99</td>\n",
       "      <td>36</td>\n",
       "      <td>55000.0</td>\n",
       "      <td>123.03</td>\n",
       "      <td>677.0</td>\n",
       "      <td>2015</td>\n",
       "      <td>1</td>\n",
       "      <td>0</td>\n",
       "      <td>...</td>\n",
       "      <td>0</td>\n",
       "      <td>0</td>\n",
       "      <td>0</td>\n",
       "      <td>0</td>\n",
       "      <td>0</td>\n",
       "      <td>1</td>\n",
       "      <td>0</td>\n",
       "      <td>0</td>\n",
       "      <td>0</td>\n",
       "      <td>0</td>\n",
       "    </tr>\n",
       "    <tr>\n",
       "      <th>1</th>\n",
       "      <td>22.0</td>\n",
       "      <td>24700.0</td>\n",
       "      <td>11.99</td>\n",
       "      <td>36</td>\n",
       "      <td>65000.0</td>\n",
       "      <td>820.28</td>\n",
       "      <td>717.0</td>\n",
       "      <td>2015</td>\n",
       "      <td>1</td>\n",
       "      <td>0</td>\n",
       "      <td>...</td>\n",
       "      <td>0</td>\n",
       "      <td>0</td>\n",
       "      <td>0</td>\n",
       "      <td>0</td>\n",
       "      <td>0</td>\n",
       "      <td>1</td>\n",
       "      <td>0</td>\n",
       "      <td>0</td>\n",
       "      <td>0</td>\n",
       "      <td>0</td>\n",
       "    </tr>\n",
       "    <tr>\n",
       "      <th>2</th>\n",
       "      <td>6.0</td>\n",
       "      <td>20000.0</td>\n",
       "      <td>10.78</td>\n",
       "      <td>60</td>\n",
       "      <td>63000.0</td>\n",
       "      <td>432.66</td>\n",
       "      <td>697.0</td>\n",
       "      <td>2015</td>\n",
       "      <td>1</td>\n",
       "      <td>0</td>\n",
       "      <td>...</td>\n",
       "      <td>0</td>\n",
       "      <td>0</td>\n",
       "      <td>0</td>\n",
       "      <td>0</td>\n",
       "      <td>0</td>\n",
       "      <td>1</td>\n",
       "      <td>0</td>\n",
       "      <td>0</td>\n",
       "      <td>0</td>\n",
       "      <td>0</td>\n",
       "    </tr>\n",
       "    <tr>\n",
       "      <th>4</th>\n",
       "      <td>12.0</td>\n",
       "      <td>10400.0</td>\n",
       "      <td>22.45</td>\n",
       "      <td>60</td>\n",
       "      <td>104433.0</td>\n",
       "      <td>289.91</td>\n",
       "      <td>697.0</td>\n",
       "      <td>2015</td>\n",
       "      <td>0</td>\n",
       "      <td>1</td>\n",
       "      <td>...</td>\n",
       "      <td>0</td>\n",
       "      <td>0</td>\n",
       "      <td>0</td>\n",
       "      <td>0</td>\n",
       "      <td>0</td>\n",
       "      <td>1</td>\n",
       "      <td>0</td>\n",
       "      <td>0</td>\n",
       "      <td>0</td>\n",
       "      <td>0</td>\n",
       "    </tr>\n",
       "    <tr>\n",
       "      <th>5</th>\n",
       "      <td>5.0</td>\n",
       "      <td>11950.0</td>\n",
       "      <td>13.44</td>\n",
       "      <td>36</td>\n",
       "      <td>34000.0</td>\n",
       "      <td>405.18</td>\n",
       "      <td>692.0</td>\n",
       "      <td>2015</td>\n",
       "      <td>0</td>\n",
       "      <td>1</td>\n",
       "      <td>...</td>\n",
       "      <td>0</td>\n",
       "      <td>0</td>\n",
       "      <td>0</td>\n",
       "      <td>0</td>\n",
       "      <td>0</td>\n",
       "      <td>0</td>\n",
       "      <td>0</td>\n",
       "      <td>0</td>\n",
       "      <td>0</td>\n",
       "      <td>1</td>\n",
       "    </tr>\n",
       "  </tbody>\n",
       "</table>\n",
       "<p>5 rows × 61 columns</p>\n",
       "</div>"
      ],
      "text/plain": [
       "   open_acc  funded_amnt  int_rate  term  annual_inc  installment   fico  \\\n",
       "0       7.0       3600.0     13.99    36     55000.0       123.03  677.0   \n",
       "1      22.0      24700.0     11.99    36     65000.0       820.28  717.0   \n",
       "2       6.0      20000.0     10.78    60     63000.0       432.66  697.0   \n",
       "4      12.0      10400.0     22.45    60    104433.0       289.91  697.0   \n",
       "5       5.0      11950.0     13.44    36     34000.0       405.18  692.0   \n",
       "\n",
       "   issue_yr  verification_status_Not Verified  \\\n",
       "0      2015                                 1   \n",
       "1      2015                                 1   \n",
       "2      2015                                 1   \n",
       "4      2015                                 0   \n",
       "5      2015                                 0   \n",
       "\n",
       "   verification_status_Source Verified  ...  sub_grade_G2  sub_grade_G3  \\\n",
       "0                                    0  ...             0             0   \n",
       "1                                    0  ...             0             0   \n",
       "2                                    0  ...             0             0   \n",
       "4                                    1  ...             0             0   \n",
       "5                                    1  ...             0             0   \n",
       "\n",
       "   sub_grade_G4  sub_grade_G5  home_ownership_ANY  home_ownership_MORTGAGE  \\\n",
       "0             0             0                   0                        1   \n",
       "1             0             0                   0                        1   \n",
       "2             0             0                   0                        1   \n",
       "4             0             0                   0                        1   \n",
       "5             0             0                   0                        0   \n",
       "\n",
       "   home_ownership_NONE  home_ownership_OTHER  home_ownership_OWN  \\\n",
       "0                    0                     0                   0   \n",
       "1                    0                     0                   0   \n",
       "2                    0                     0                   0   \n",
       "4                    0                     0                   0   \n",
       "5                    0                     0                   0   \n",
       "\n",
       "   home_ownership_RENT  \n",
       "0                    0  \n",
       "1                    0  \n",
       "2                    0  \n",
       "4                    0  \n",
       "5                    1  \n",
       "\n",
       "[5 rows x 61 columns]"
      ]
     },
     "metadata": {},
     "output_type": "display_data"
    }
   ],
   "source": [
    "# 1 Create a new dataframe X that includes only our feature variables\n",
    "X_upsampled_train = upsampled_train_data.loc[:,upsampled_data.columns != 'loan_status'].copy()\n",
    "#Create a new dataframe y that includes loan status\n",
    "y_upsampled_train = upsampled_train_data['loan_status'].copy()\n",
    "#Now you need to one hot encode the categorical features to make them machine readable. \n",
    "X_upsampled_train = pd.get_dummies(X_upsampled_train, drop_first=False).copy()\n",
    "#Show the first five rows of X_upsampled_train\n",
    "display(X_upsampled_train.head())"
   ]
  },
  {
   "cell_type": "code",
   "execution_count": 43,
   "metadata": {
    "colab": {
     "base_uri": "https://localhost:8080/",
     "height": 411
    },
    "id": "uuLcy1G8Q1Pe",
    "outputId": "ce09407b-d049-40bc-fabd-8a029a7d88a2"
   },
   "outputs": [
    {
     "data": {
      "text/html": [
       "<div>\n",
       "<style scoped>\n",
       "    .dataframe tbody tr th:only-of-type {\n",
       "        vertical-align: middle;\n",
       "    }\n",
       "\n",
       "    .dataframe tbody tr th {\n",
       "        vertical-align: top;\n",
       "    }\n",
       "\n",
       "    .dataframe thead th {\n",
       "        text-align: right;\n",
       "    }\n",
       "</style>\n",
       "<table border=\"1\" class=\"dataframe\">\n",
       "  <thead>\n",
       "    <tr style=\"text-align: right;\">\n",
       "      <th></th>\n",
       "      <th>open_acc</th>\n",
       "      <th>funded_amnt</th>\n",
       "      <th>int_rate</th>\n",
       "      <th>term</th>\n",
       "      <th>annual_inc</th>\n",
       "      <th>installment</th>\n",
       "      <th>fico</th>\n",
       "      <th>issue_yr</th>\n",
       "      <th>verification_status_Not Verified</th>\n",
       "      <th>verification_status_Source Verified</th>\n",
       "      <th>...</th>\n",
       "      <th>sub_grade_G2</th>\n",
       "      <th>sub_grade_G3</th>\n",
       "      <th>sub_grade_G4</th>\n",
       "      <th>sub_grade_G5</th>\n",
       "      <th>home_ownership_ANY</th>\n",
       "      <th>home_ownership_MORTGAGE</th>\n",
       "      <th>home_ownership_NONE</th>\n",
       "      <th>home_ownership_OTHER</th>\n",
       "      <th>home_ownership_OWN</th>\n",
       "      <th>home_ownership_RENT</th>\n",
       "    </tr>\n",
       "  </thead>\n",
       "  <tbody>\n",
       "    <tr>\n",
       "      <th>count</th>\n",
       "      <td>1.676906e+06</td>\n",
       "      <td>1.676906e+06</td>\n",
       "      <td>1.676906e+06</td>\n",
       "      <td>1.676906e+06</td>\n",
       "      <td>1.676906e+06</td>\n",
       "      <td>1.676906e+06</td>\n",
       "      <td>1.676906e+06</td>\n",
       "      <td>1.676906e+06</td>\n",
       "      <td>1.676906e+06</td>\n",
       "      <td>1.676906e+06</td>\n",
       "      <td>...</td>\n",
       "      <td>1.676906e+06</td>\n",
       "      <td>1.676906e+06</td>\n",
       "      <td>1.676906e+06</td>\n",
       "      <td>1.676906e+06</td>\n",
       "      <td>1.676906e+06</td>\n",
       "      <td>1.676906e+06</td>\n",
       "      <td>1.676906e+06</td>\n",
       "      <td>1.676906e+06</td>\n",
       "      <td>1.676906e+06</td>\n",
       "      <td>1.676906e+06</td>\n",
       "    </tr>\n",
       "    <tr>\n",
       "      <th>mean</th>\n",
       "      <td>4.120797e-01</td>\n",
       "      <td>3.505037e-01</td>\n",
       "      <td>3.920245e-01</td>\n",
       "      <td>2.987496e-01</td>\n",
       "      <td>1.720594e-01</td>\n",
       "      <td>3.505226e-01</td>\n",
       "      <td>2.266917e-01</td>\n",
       "      <td>2.014707e+03</td>\n",
       "      <td>2.599728e-01</td>\n",
       "      <td>4.006492e-01</td>\n",
       "      <td>...</td>\n",
       "      <td>1.699559e-03</td>\n",
       "      <td>8.360636e-04</td>\n",
       "      <td>5.462441e-04</td>\n",
       "      <td>4.997299e-04</td>\n",
       "      <td>5.784463e-05</td>\n",
       "      <td>4.679099e-01</td>\n",
       "      <td>3.816553e-05</td>\n",
       "      <td>4.711057e-05</td>\n",
       "      <td>1.059421e-01</td>\n",
       "      <td>4.260048e-01</td>\n",
       "    </tr>\n",
       "    <tr>\n",
       "      <th>std</th>\n",
       "      <td>1.766576e-01</td>\n",
       "      <td>2.145533e-01</td>\n",
       "      <td>2.090216e-01</td>\n",
       "      <td>4.577100e-01</td>\n",
       "      <td>9.939024e-02</td>\n",
       "      <td>1.963440e-01</td>\n",
       "      <td>1.994886e-01</td>\n",
       "      <td>1.134180e+00</td>\n",
       "      <td>4.386195e-01</td>\n",
       "      <td>4.900302e-01</td>\n",
       "      <td>...</td>\n",
       "      <td>4.119067e-02</td>\n",
       "      <td>2.890268e-02</td>\n",
       "      <td>2.336549e-02</td>\n",
       "      <td>2.234906e-02</td>\n",
       "      <td>7.605348e-03</td>\n",
       "      <td>4.989693e-01</td>\n",
       "      <td>6.177709e-03</td>\n",
       "      <td>6.863554e-03</td>\n",
       "      <td>3.077636e-01</td>\n",
       "      <td>4.944945e-01</td>\n",
       "    </tr>\n",
       "    <tr>\n",
       "      <th>min</th>\n",
       "      <td>0.000000e+00</td>\n",
       "      <td>0.000000e+00</td>\n",
       "      <td>0.000000e+00</td>\n",
       "      <td>0.000000e+00</td>\n",
       "      <td>0.000000e+00</td>\n",
       "      <td>0.000000e+00</td>\n",
       "      <td>0.000000e+00</td>\n",
       "      <td>2.012000e+03</td>\n",
       "      <td>0.000000e+00</td>\n",
       "      <td>0.000000e+00</td>\n",
       "      <td>...</td>\n",
       "      <td>0.000000e+00</td>\n",
       "      <td>0.000000e+00</td>\n",
       "      <td>0.000000e+00</td>\n",
       "      <td>0.000000e+00</td>\n",
       "      <td>0.000000e+00</td>\n",
       "      <td>0.000000e+00</td>\n",
       "      <td>0.000000e+00</td>\n",
       "      <td>0.000000e+00</td>\n",
       "      <td>0.000000e+00</td>\n",
       "      <td>0.000000e+00</td>\n",
       "    </tr>\n",
       "    <tr>\n",
       "      <th>25%</th>\n",
       "      <td>2.857143e-01</td>\n",
       "      <td>1.794872e-01</td>\n",
       "      <td>2.557510e-01</td>\n",
       "      <td>0.000000e+00</td>\n",
       "      <td>1.081731e-01</td>\n",
       "      <td>2.081009e-01</td>\n",
       "      <td>7.407407e-02</td>\n",
       "      <td>2.014000e+03</td>\n",
       "      <td>0.000000e+00</td>\n",
       "      <td>0.000000e+00</td>\n",
       "      <td>...</td>\n",
       "      <td>0.000000e+00</td>\n",
       "      <td>0.000000e+00</td>\n",
       "      <td>0.000000e+00</td>\n",
       "      <td>0.000000e+00</td>\n",
       "      <td>0.000000e+00</td>\n",
       "      <td>0.000000e+00</td>\n",
       "      <td>0.000000e+00</td>\n",
       "      <td>0.000000e+00</td>\n",
       "      <td>0.000000e+00</td>\n",
       "      <td>0.000000e+00</td>\n",
       "    </tr>\n",
       "    <tr>\n",
       "      <th>50%</th>\n",
       "      <td>3.928571e-01</td>\n",
       "      <td>3.076923e-01</td>\n",
       "      <td>3.761840e-01</td>\n",
       "      <td>0.000000e+00</td>\n",
       "      <td>1.490385e-01</td>\n",
       "      <td>3.064564e-01</td>\n",
       "      <td>1.851852e-01</td>\n",
       "      <td>2.015000e+03</td>\n",
       "      <td>0.000000e+00</td>\n",
       "      <td>0.000000e+00</td>\n",
       "      <td>...</td>\n",
       "      <td>0.000000e+00</td>\n",
       "      <td>0.000000e+00</td>\n",
       "      <td>0.000000e+00</td>\n",
       "      <td>0.000000e+00</td>\n",
       "      <td>0.000000e+00</td>\n",
       "      <td>0.000000e+00</td>\n",
       "      <td>0.000000e+00</td>\n",
       "      <td>0.000000e+00</td>\n",
       "      <td>0.000000e+00</td>\n",
       "      <td>0.000000e+00</td>\n",
       "    </tr>\n",
       "    <tr>\n",
       "      <th>75%</th>\n",
       "      <td>5.000000e-01</td>\n",
       "      <td>4.871795e-01</td>\n",
       "      <td>5.263870e-01</td>\n",
       "      <td>1.000000e+00</td>\n",
       "      <td>2.074519e-01</td>\n",
       "      <td>4.616245e-01</td>\n",
       "      <td>3.333333e-01</td>\n",
       "      <td>2.016000e+03</td>\n",
       "      <td>1.000000e+00</td>\n",
       "      <td>1.000000e+00</td>\n",
       "      <td>...</td>\n",
       "      <td>0.000000e+00</td>\n",
       "      <td>0.000000e+00</td>\n",
       "      <td>0.000000e+00</td>\n",
       "      <td>0.000000e+00</td>\n",
       "      <td>0.000000e+00</td>\n",
       "      <td>1.000000e+00</td>\n",
       "      <td>0.000000e+00</td>\n",
       "      <td>0.000000e+00</td>\n",
       "      <td>0.000000e+00</td>\n",
       "      <td>1.000000e+00</td>\n",
       "    </tr>\n",
       "    <tr>\n",
       "      <th>max</th>\n",
       "      <td>1.000000e+00</td>\n",
       "      <td>1.000000e+00</td>\n",
       "      <td>1.000000e+00</td>\n",
       "      <td>1.000000e+00</td>\n",
       "      <td>1.000000e+00</td>\n",
       "      <td>1.000000e+00</td>\n",
       "      <td>1.000000e+00</td>\n",
       "      <td>2.016000e+03</td>\n",
       "      <td>1.000000e+00</td>\n",
       "      <td>1.000000e+00</td>\n",
       "      <td>...</td>\n",
       "      <td>1.000000e+00</td>\n",
       "      <td>1.000000e+00</td>\n",
       "      <td>1.000000e+00</td>\n",
       "      <td>1.000000e+00</td>\n",
       "      <td>1.000000e+00</td>\n",
       "      <td>1.000000e+00</td>\n",
       "      <td>1.000000e+00</td>\n",
       "      <td>1.000000e+00</td>\n",
       "      <td>1.000000e+00</td>\n",
       "      <td>1.000000e+00</td>\n",
       "    </tr>\n",
       "  </tbody>\n",
       "</table>\n",
       "<p>8 rows × 61 columns</p>\n",
       "</div>"
      ],
      "text/plain": [
       "           open_acc   funded_amnt      int_rate          term    annual_inc  \\\n",
       "count  1.676906e+06  1.676906e+06  1.676906e+06  1.676906e+06  1.676906e+06   \n",
       "mean   4.120797e-01  3.505037e-01  3.920245e-01  2.987496e-01  1.720594e-01   \n",
       "std    1.766576e-01  2.145533e-01  2.090216e-01  4.577100e-01  9.939024e-02   \n",
       "min    0.000000e+00  0.000000e+00  0.000000e+00  0.000000e+00  0.000000e+00   \n",
       "25%    2.857143e-01  1.794872e-01  2.557510e-01  0.000000e+00  1.081731e-01   \n",
       "50%    3.928571e-01  3.076923e-01  3.761840e-01  0.000000e+00  1.490385e-01   \n",
       "75%    5.000000e-01  4.871795e-01  5.263870e-01  1.000000e+00  2.074519e-01   \n",
       "max    1.000000e+00  1.000000e+00  1.000000e+00  1.000000e+00  1.000000e+00   \n",
       "\n",
       "        installment          fico      issue_yr  \\\n",
       "count  1.676906e+06  1.676906e+06  1.676906e+06   \n",
       "mean   3.505226e-01  2.266917e-01  2.014707e+03   \n",
       "std    1.963440e-01  1.994886e-01  1.134180e+00   \n",
       "min    0.000000e+00  0.000000e+00  2.012000e+03   \n",
       "25%    2.081009e-01  7.407407e-02  2.014000e+03   \n",
       "50%    3.064564e-01  1.851852e-01  2.015000e+03   \n",
       "75%    4.616245e-01  3.333333e-01  2.016000e+03   \n",
       "max    1.000000e+00  1.000000e+00  2.016000e+03   \n",
       "\n",
       "       verification_status_Not Verified  verification_status_Source Verified  \\\n",
       "count                      1.676906e+06                         1.676906e+06   \n",
       "mean                       2.599728e-01                         4.006492e-01   \n",
       "std                        4.386195e-01                         4.900302e-01   \n",
       "min                        0.000000e+00                         0.000000e+00   \n",
       "25%                        0.000000e+00                         0.000000e+00   \n",
       "50%                        0.000000e+00                         0.000000e+00   \n",
       "75%                        1.000000e+00                         1.000000e+00   \n",
       "max                        1.000000e+00                         1.000000e+00   \n",
       "\n",
       "       ...  sub_grade_G2  sub_grade_G3  sub_grade_G4  sub_grade_G5  \\\n",
       "count  ...  1.676906e+06  1.676906e+06  1.676906e+06  1.676906e+06   \n",
       "mean   ...  1.699559e-03  8.360636e-04  5.462441e-04  4.997299e-04   \n",
       "std    ...  4.119067e-02  2.890268e-02  2.336549e-02  2.234906e-02   \n",
       "min    ...  0.000000e+00  0.000000e+00  0.000000e+00  0.000000e+00   \n",
       "25%    ...  0.000000e+00  0.000000e+00  0.000000e+00  0.000000e+00   \n",
       "50%    ...  0.000000e+00  0.000000e+00  0.000000e+00  0.000000e+00   \n",
       "75%    ...  0.000000e+00  0.000000e+00  0.000000e+00  0.000000e+00   \n",
       "max    ...  1.000000e+00  1.000000e+00  1.000000e+00  1.000000e+00   \n",
       "\n",
       "       home_ownership_ANY  home_ownership_MORTGAGE  home_ownership_NONE  \\\n",
       "count        1.676906e+06             1.676906e+06         1.676906e+06   \n",
       "mean         5.784463e-05             4.679099e-01         3.816553e-05   \n",
       "std          7.605348e-03             4.989693e-01         6.177709e-03   \n",
       "min          0.000000e+00             0.000000e+00         0.000000e+00   \n",
       "25%          0.000000e+00             0.000000e+00         0.000000e+00   \n",
       "50%          0.000000e+00             0.000000e+00         0.000000e+00   \n",
       "75%          0.000000e+00             1.000000e+00         0.000000e+00   \n",
       "max          1.000000e+00             1.000000e+00         1.000000e+00   \n",
       "\n",
       "       home_ownership_OTHER  home_ownership_OWN  home_ownership_RENT  \n",
       "count          1.676906e+06        1.676906e+06         1.676906e+06  \n",
       "mean           4.711057e-05        1.059421e-01         4.260048e-01  \n",
       "std            6.863554e-03        3.077636e-01         4.944945e-01  \n",
       "min            0.000000e+00        0.000000e+00         0.000000e+00  \n",
       "25%            0.000000e+00        0.000000e+00         0.000000e+00  \n",
       "50%            0.000000e+00        0.000000e+00         0.000000e+00  \n",
       "75%            0.000000e+00        0.000000e+00         1.000000e+00  \n",
       "max            1.000000e+00        1.000000e+00         1.000000e+00  \n",
       "\n",
       "[8 rows x 61 columns]"
      ]
     },
     "execution_count": 43,
     "metadata": {},
     "output_type": "execute_result"
    }
   ],
   "source": [
    "#This function loops through columns in a feature set and defines a predefined scaler to each\n",
    "def scale_numeric(features, numeric_features, scaler):\n",
    "  #For loop through the numeric features\n",
    "    for col in numeric_features:\n",
    "      #Reshaping the column\n",
    "        features[col] = scaler.fit_transform(features[col].values.reshape(-1, 1))\n",
    "    #Return the column\n",
    "    return features\n",
    "\n",
    "#We can now define the scaler we want to use and apply it to our features \n",
    "#Create an array called numeric_features with numeric variables\n",
    "numeric_features = ['open_acc', 'funded_amnt', 'int_rate', 'term', 'annual_inc',\n",
    "       'installment', 'fico']\n",
    "       #Store the minmax scaler in scaler\n",
    "scaler = MinMaxScaler()\n",
    "#Call scale_numeric function in X_upsampled_train\n",
    "X_upsampled_train = scale_numeric(X_upsampled_train, numeric_features, scaler)\n",
    "#Check to see if it worked\n",
    "X_upsampled_train.describe()"
   ]
  },
  {
   "cell_type": "code",
   "execution_count": 44,
   "metadata": {
    "colab": {
     "base_uri": "https://localhost:8080/"
    },
    "id": "8sezn7om1mHE",
    "outputId": "86b55618-c1e9-4ba9-9242-85544f2d17e5"
   },
   "outputs": [
    {
     "name": "stdout",
     "output_type": "stream",
     "text": [
      "Train: Response Variable:  (1676906,)\n",
      "Train: Feature Variables:  (1676906, 61)\n",
      "Test: Response Variable:  (206921,)\n",
      "Test: Feature Variables:  (206921, 61)\n"
     ]
    }
   ],
   "source": [
    "#Check if data have right shape\n",
    "#Print the Train: Response Variable shape\n",
    "print(\"Train: Response Variable: \",y_upsampled_train.shape)\n",
    "#Print the Train: Feature Variable shape\n",
    "print(\"Train: Feature Variables: \",X_upsampled_train.shape)\n",
    "#Print the Test: Response Variable shape\n",
    "print(\"Test: Response Variable: \",y_test.shape)\n",
    "#Print the Test: Feature Variable shape\n",
    "print(\"Test: Feature Variables: \",X_test.shape)"
   ]
  },
  {
   "cell_type": "code",
   "execution_count": 45,
   "metadata": {
    "colab": {
     "base_uri": "https://localhost:8080/"
    },
    "id": "JfukOAhn1-Cj",
    "outputId": "4dc9f3b0-3ccc-442a-839a-512376d0a596"
   },
   "outputs": [
    {
     "name": "stdout",
     "output_type": "stream",
     "text": [
      "Model Accuracy is 0.7505569758506869\n",
      "\n"
     ]
    }
   ],
   "source": [
    "#Fit 'rf' to the rf_upsampled set\n",
    "rf_upsampled = RandomForestClassifier(n_estimators=25, criterion='gini')\n",
    "#Fit 'rf' to the rf_upsampled.fit training set\n",
    "rf_upsampled.fit(X_upsampled_train, y_upsampled_train)\n",
    "#Predict the test set labels 'y_pred'\n",
    "y_upsampled_pred = rf_upsampled.predict(X_test)\n",
    "#Print the model accuracy\n",
    "print(f'Model Accuracy is {accuracy_score(y_test, y_upsampled_pred)}\\n')"
   ]
  },
  {
   "cell_type": "code",
   "execution_count": 46,
   "metadata": {},
   "outputs": [
    {
     "name": "stdout",
     "output_type": "stream",
     "text": [
      "              precision    recall  f1-score   support\n",
      "\n",
      " Charged Off       0.34      0.22      0.27     42731\n",
      "  Fully Paid       0.81      0.89      0.85    164190\n",
      "\n",
      "    accuracy                           0.75    206921\n",
      "   macro avg       0.58      0.56      0.56    206921\n",
      "weighted avg       0.72      0.75      0.73    206921\n",
      "\n"
     ]
    },
    {
     "data": {
      "image/png": "[encoded data removed]",
      "text/plain": [
       "<Figure size 432x288 with 2 Axes>"
      ]
     },
     "metadata": {
      "needs_background": "light"
     },
     "output_type": "display_data"
    }
   ],
   "source": [
    "#Borrowed from COMP488 notes\n",
    "#Visualize the confusion matrix to make it easier to read\n",
    "con_matrix = confusion_matrix(y_test, y_upsampled_pred)\n",
    "#Create data frame with confusion matrix labels of charged off and fully paid\n",
    "confusion_matrix_df = pd.DataFrame(con_matrix, ('Charged Off', 'Fully Paid'), ('Charged Off', 'Fully Paid'))\n",
    "#Initialize the heatmap confusion matrix\n",
    "heatmap = sns.heatmap(confusion_matrix_df, annot=True, annot_kws={\"size\": 20}, fmt=\"d\", cmap=\"Blues\")\n",
    "#Edit the y axis labels on the heatmap confusion matrix\n",
    "heatmap.yaxis.set_ticklabels(heatmap.yaxis.get_ticklabels(), rotation=0, ha='right', fontsize = 14)\n",
    "#Edit the x axis labels on the heatmap confusion matrix\n",
    "heatmap.xaxis.set_ticklabels(heatmap.xaxis.get_ticklabels(), rotation=45, ha='right', fontsize = 14)\n",
    "#Plot the y label actual on the matrix\n",
    "plt.ylabel('Actual', fontsize = 14)\n",
    "#Plot the x label predicted on the matrix\n",
    "plt.xlabel('Predicted', fontsize = 14)\n",
    "# Print the classification report\n",
    "print(classification_report(y_test, y_upsampled_pred))"
   ]
  },
  {
   "cell_type": "markdown",
   "metadata": {
    "id": "5YdfnWdvCNf9"
   },
   "source": [
    "# Evaluating Model Performance\n",
    "- we will be using a confusion matrix t evaluate the performance of our model."
   ]
  },
  {
   "cell_type": "markdown",
   "metadata": {},
   "source": [
    "# Naive Bayes Model "
   ]
  },
  {
   "cell_type": "code",
   "execution_count": 47,
   "metadata": {},
   "outputs": [],
   "source": [
    "nb = MultinomialNB()"
   ]
  },
  {
   "cell_type": "code",
   "execution_count": 48,
   "metadata": {},
   "outputs": [
    {
     "data": {
      "text/plain": [
       "MultinomialNB()"
      ]
     },
     "execution_count": 48,
     "metadata": {},
     "output_type": "execute_result"
    }
   ],
   "source": [
    "nb.fit(X_train_scaled, y_train)"
   ]
  },
  {
   "cell_type": "code",
   "execution_count": 49,
   "metadata": {},
   "outputs": [
    {
     "name": "stdout",
     "output_type": "stream",
     "text": [
      "Model Accuracy is 0.7641273722821753\n",
      "\n"
     ]
    }
   ],
   "source": [
    "nb_pred = nb.predict(X_test_scaled)\n",
    "\n",
    "print(f'Model Accuracy is {accuracy_score(y_test, nb_pred)}\\n')"
   ]
  },
  {
   "cell_type": "markdown",
   "metadata": {
    "id": "5YdfnWdvCNf9"
   },
   "source": [
    "# Evaluating Model Performance\n",
    "- we will be using a confusion matrix t evaluate the performance of our model."
   ]
  },
  {
   "cell_type": "code",
   "execution_count": 50,
   "metadata": {
    "colab": {
     "base_uri": "https://localhost:8080/",
     "height": 498
    },
    "id": "WGYd_LQ02ir8",
    "outputId": "454d13cc-964a-4974-dac7-763c3c92c7f2",
    "scrolled": true
   },
   "outputs": [
    {
     "name": "stdout",
     "output_type": "stream",
     "text": [
      "              precision    recall  f1-score   support\n",
      "\n",
      " Charged Off       0.38      0.22      0.28     42731\n",
      "  Fully Paid       0.82      0.91      0.86    164190\n",
      "\n",
      "    accuracy                           0.76    206921\n",
      "   macro avg       0.60      0.56      0.57    206921\n",
      "weighted avg       0.73      0.76      0.74    206921\n",
      "\n"
     ]
    },
    {
     "data": {
      "image/png": "[encoded data removed]",
      "text/plain": [
       "<Figure size 432x288 with 2 Axes>"
      ]
     },
     "metadata": {
      "needs_background": "light"
     },
     "output_type": "display_data"
    }
   ],
   "source": [
    "#Borrowed from COMP488 notes\n",
    "#Visualize the confusion matrix to make it easier to read\n",
    "con_matrix = confusion_matrix(y_test, nb_pred)\n",
    "#Create data frame with confusion matrix labels of charged off and fully paid\n",
    "confusion_matrix_df = pd.DataFrame(con_matrix, ('Charged Off', 'Fully Paid'), ('Charged Off', 'Fully Paid'))\n",
    "#Initialize the heatmap confusion matrix\n",
    "heatmap = sns.heatmap(confusion_matrix_df, annot=True, annot_kws={\"size\": 20}, fmt=\"d\", cmap=\"Blues\")\n",
    "#Edit the y axis labels on the heatmap confusion matrix\n",
    "heatmap.yaxis.set_ticklabels(heatmap.yaxis.get_ticklabels(), rotation=0, ha='right', fontsize = 14)\n",
    "#Edit the x axis labels on the heatmap confusion matrix\n",
    "heatmap.xaxis.set_ticklabels(heatmap.xaxis.get_ticklabels(), rotation=45, ha='right', fontsize = 14)\n",
    "#Plot the y label actual on the matrix\n",
    "plt.ylabel('Actual', fontsize = 14)\n",
    "#Plot the x label predicted on the matrix\n",
    "plt.xlabel('Predicted', fontsize = 14)\n",
    "# Print the classification report\n",
    "print(classification_report(y_test, nb_pred))\n"
   ]
  },
  {
   "cell_type": "markdown",
   "metadata": {},
   "source": [
    "# K-Nearest Neighbors (KNN)"
   ]
  },
  {
   "cell_type": "code",
   "execution_count": 51,
   "metadata": {},
   "outputs": [
    {
     "name": "stdout",
     "output_type": "stream",
     "text": [
      "Model Accuracy is 0.7695980591626757\n",
      "\n"
     ]
    }
   ],
   "source": [
    "knn = KNeighborsClassifier(n_neighbors = 9) \n",
    "knn.fit(X_train_scaled, y_train)\n",
    "knn_pred = knn.predict(X_test_scaled)\n",
    "\n",
    "print(f'Model Accuracy is {accuracy_score(y_test, knn_pred)}\\n')"
   ]
  },
  {
   "cell_type": "code",
   "execution_count": 52,
   "metadata": {},
   "outputs": [
    {
     "name": "stdout",
     "output_type": "stream",
     "text": [
      "              precision    recall  f1-score   support\n",
      "\n",
      " Charged Off       0.36      0.14      0.21     42731\n",
      "  Fully Paid       0.81      0.93      0.87    164190\n",
      "\n",
      "    accuracy                           0.77    206921\n",
      "   macro avg       0.58      0.54      0.54    206921\n",
      "weighted avg       0.71      0.77      0.73    206921\n",
      "\n"
     ]
    },
    {
     "data": {
      "image/png": "[encoded data removed]",
      "text/plain": [
       "<Figure size 432x288 with 2 Axes>"
      ]
     },
     "metadata": {
      "needs_background": "light"
     },
     "output_type": "display_data"
    }
   ],
   "source": [
    "con_matrix = confusion_matrix(y_test, knn_pred)\n",
    "confusion_matrix_df = pd.DataFrame(con_matrix, ('Loan_N', 'Loan_Y'), ('Loan_N', 'Loan_Y'))\n",
    "heatmap = sns.heatmap(confusion_matrix_df, annot=True, annot_kws={\"size\": 20}, fmt=\"d\", cmap=\"Blues\")\n",
    "heatmap.yaxis.set_ticklabels(heatmap.yaxis.get_ticklabels(), rotation=0, ha='right', fontsize = 14)\n",
    "heatmap.xaxis.set_ticklabels(heatmap.xaxis.get_ticklabels(), rotation=45, ha='right', fontsize = 14)\n",
    "plt.ylabel('Actual', fontsize = 14)\n",
    "plt.xlabel('Predicted', fontsize = 14)\n",
    "print(classification_report(y_test, knn_pred))"
   ]
  }
 ],
 "metadata": {
  "colab": {
   "collapsed_sections": [],
   "name": "COMP562",
   "provenance": []
  },
  "kernelspec": {
   "display_name": "Python 3 (ipykernel)",
   "language": "python",
   "name": "python3"
  },
  "language_info": {
   "codemirror_mode": {
    "name": "ipython",
    "version": 3
   },
   "file_extension": ".py",
   "mimetype": "text/x-python",
   "name": "python",
   "nbconvert_exporter": "python",
   "pygments_lexer": "ipython3",
   "version": "3.9.12"
  }
 },
 "nbformat": 4,
 "nbformat_minor": 1
}
